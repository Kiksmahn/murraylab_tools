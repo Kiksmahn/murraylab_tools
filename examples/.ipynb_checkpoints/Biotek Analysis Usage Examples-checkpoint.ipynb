{
 "cells": [
  {
   "cell_type": "markdown",
   "metadata": {},
   "source": [
    "# Welcome to the Biotek Package"
   ]
  },
  {
   "cell_type": "markdown",
   "metadata": {},
   "source": [
    "The Biotek package of `murraylab_tools` is designed to make your life easier when analyzing Biotek time series data. Specifically, murraylab_tools.Biotek converts Biotek data to tidy format for easy analysis with Pandas and easy plotting with Seaborn. The package also contains a few convenience functions for some of the things you're likely to do with TX-TL time series data, currently including:\n",
    "* Background subtraction\n",
    "* Endpoint summarization."
   ]
  },
  {
   "cell_type": "markdown",
   "metadata": {},
   "source": [
    "### Data Tidying"
   ]
  },
  {
   "cell_type": "markdown",
   "metadata": {},
   "source": [
    "Converting from Biotek output to a tidy, Pandas-readable format is simple:"
   ]
  },
  {
   "cell_type": "code",
   "execution_count": 2,
   "metadata": {
    "collapsed": false
   },
   "outputs": [
    {
     "name": "stdout",
     "output_type": "stream",
     "text": [
      "Assuming default volume 10 uL. Make sure this is what you want!\n"
     ]
    },
    {
     "ename": "TypeError",
     "evalue": "unsupported operand type(s) for /: 'float' and 'NoneType'",
     "output_type": "error",
     "traceback": [
      "\u001b[0;31m---------------------------------------------------------------------------\u001b[0m",
      "\u001b[0;31mTypeError\u001b[0m                                 Traceback (most recent call last)",
      "\u001b[0;32m<ipython-input-2-f1edd80c9260>\u001b[0m in \u001b[0;36m<module>\u001b[0;34m()\u001b[0m\n\u001b[1;32m      5\u001b[0m \u001b[0;31m# saved in CSV format.\u001b[0m\u001b[0;34m\u001b[0m\u001b[0;34m\u001b[0m\u001b[0m\n\u001b[1;32m      6\u001b[0m \u001b[0mdata_filename\u001b[0m \u001b[0;34m=\u001b[0m \u001b[0mos\u001b[0m\u001b[0;34m.\u001b[0m\u001b[0mpath\u001b[0m\u001b[0;34m.\u001b[0m\u001b[0mjoin\u001b[0m\u001b[0;34m(\u001b[0m\u001b[0;34m\"biotek_examples\"\u001b[0m\u001b[0;34m,\u001b[0m \u001b[0;34m\"RFP_GFP_traces.csv\"\u001b[0m\u001b[0;34m)\u001b[0m\u001b[0;34m\u001b[0m\u001b[0m\n\u001b[0;32m----> 7\u001b[0;31m \u001b[0mmt_biotek\u001b[0m\u001b[0;34m.\u001b[0m\u001b[0mtidy_biotek_data\u001b[0m\u001b[0;34m(\u001b[0m\u001b[0mdata_filename\u001b[0m\u001b[0;34m)\u001b[0m\u001b[0;34m\u001b[0m\u001b[0m\n\u001b[0m",
      "\u001b[0;32m/Users/sclamons/anaconda/lib/python2.7/site-packages/murraylab_tools/biotek/biotek.pyc\u001b[0m in \u001b[0;36mtidy_biotek_data\u001b[0;34m(input_filename, supplementary_filename, volume)\u001b[0m\n\u001b[1;32m    193\u001b[0m                         uM_conc   = raw_to_uM(line[i],\n\u001b[1;32m    194\u001b[0m                                               \u001b[0mstandard_channel_name\u001b[0m\u001b[0;34m(\u001b[0m\u001b[0mread_name\u001b[0m\u001b[0;34m)\u001b[0m\u001b[0;34m,\u001b[0m\u001b[0;34m\u001b[0m\u001b[0m\n\u001b[0;32m--> 195\u001b[0;31m                                               plate_reader_id, gain, volume)\n\u001b[0m\u001b[1;32m    196\u001b[0m                         \u001b[0;32mif\u001b[0m \u001b[0muM_conc\u001b[0m \u001b[0;34m==\u001b[0m \u001b[0mNone\u001b[0m\u001b[0;34m:\u001b[0m\u001b[0;34m\u001b[0m\u001b[0m\n\u001b[1;32m    197\u001b[0m                             \u001b[0muM_conc\u001b[0m \u001b[0;34m=\u001b[0m \u001b[0;34m-\u001b[0m\u001b[0;36m1\u001b[0m\u001b[0;34m\u001b[0m\u001b[0m\n",
      "\u001b[0;32m/Users/sclamons/anaconda/lib/python2.7/site-packages/murraylab_tools/biotek/biotek.pyc\u001b[0m in \u001b[0;36mraw_to_uM\u001b[0;34m(raw, protein, biotek, gain, volume)\u001b[0m\n\u001b[1;32m     57\u001b[0m        \u001b[0;32mreturn\u001b[0m \u001b[0mNone\u001b[0m\u001b[0;34m\u001b[0m\u001b[0m\n\u001b[1;32m     58\u001b[0m     \u001b[0;31m# Note that volume is in uL!\u001b[0m\u001b[0;34m\u001b[0m\u001b[0;34m\u001b[0m\u001b[0m\n\u001b[0;32m---> 59\u001b[0;31m     \u001b[0;32mreturn\u001b[0m \u001b[0mfloat\u001b[0m\u001b[0;34m(\u001b[0m\u001b[0mraw\u001b[0m\u001b[0;34m)\u001b[0m \u001b[0;34m*\u001b[0m \u001b[0;36m10.0\u001b[0m \u001b[0;34m/\u001b[0m \u001b[0mcalibration_data\u001b[0m\u001b[0;34m[\u001b[0m\u001b[0mprotein\u001b[0m\u001b[0;34m]\u001b[0m\u001b[0;34m[\u001b[0m\u001b[0mbiotek\u001b[0m\u001b[0;34m]\u001b[0m\u001b[0;34m[\u001b[0m\u001b[0mgain\u001b[0m\u001b[0;34m]\u001b[0m \u001b[0;34m/\u001b[0m \u001b[0mvolume\u001b[0m\u001b[0;34m\u001b[0m\u001b[0m\n\u001b[0m\u001b[1;32m     60\u001b[0m \u001b[0;34m\u001b[0m\u001b[0m\n\u001b[1;32m     61\u001b[0m ReadSet = collections.namedtuple('ReadSet', ['name', 'excitation', 'emission',\n",
      "\u001b[0;31mTypeError\u001b[0m: unsupported operand type(s) for /: 'float' and 'NoneType'"
     ]
    }
   ],
   "source": [
    "import murraylab_tools.biotek as mt_biotek\n",
    "import os\n",
    "\n",
    "# Note that the input file must be from excel output of a Biotek experiment,\n",
    "# saved in CSV format. \n",
    "data_filename = os.path.join(\"biotek_examples\", \"RFP_GFP_traces.csv\")\n",
    "mt_biotek.tidy_biotek_data(data_filename, volume = 5)"
   ]
  },
  {
   "cell_type": "markdown",
   "metadata": {},
   "source": [
    "A tidified version of the data will be created with the same name and location as the original time trace file, with \"_tidy\" appended to the end of the name (pre-suffix).\n",
    "\n",
    "Usually you will also want access to some meta-data on your experiment -- most importantly, what plasmids were put in each well, in what concentration. You can add this metadata in the form of a supplementary spreadsheet. The first column of the supplementary spreadsheet is assumed to contain a well number (e.g., \"D4\" or \"A08\"). Every other column contains some kind of metadata keyed to that well number, with a name of that metadata given in a header row. You can write that supplementary data file yourself in Excel or notepad. \n",
    "\n",
    "Here is an example of how to write a supplementary file programmatically. This experiment contains three replicated 2D titrations of a GFP plasmid on one axis (at concentrations of 0.25, 0.5, 1, and 2 nM) and an RFP plasmid on the other axis (at concentrations of 0.5, 1, 2, and 4 nM)."
   ]
  },
  {
   "cell_type": "code",
   "execution_count": null,
   "metadata": {
    "collapsed": false
   },
   "outputs": [],
   "source": [
    "import csv, string\n",
    "\n",
    "rfp_concs = [0.44, 0.88, 2.20, 3.97]\n",
    "gfp_concs = [0.24, 0.49, 0.98, 2.01]\n",
    "replicates = [1,2,3]\n",
    "\n",
    "supplementary_filename = os.path.join(\"biotek_examples\", \"RFP_GFP_supplementary.csv\")\n",
    "with open(supplementary_filename, 'w') as outfile:\n",
    "    writer = csv.writer(outfile)\n",
    "    writer.writerow(['Well', 'RFP Plasmid (nM)', 'GFP Plasmid (nM)', 'Replicate'])\n",
    "    for row in range(4):\n",
    "        for col in range(4):\n",
    "            well_names = [string.ascii_uppercase[row] + \"%d\" % (col+6),\n",
    "                          string.ascii_uppercase[row] + \"%d\" % (col+11),\n",
    "                          string.ascii_uppercase[row+6] + \"%d\" % (col+1)]\n",
    "            for rep in replicates:\n",
    "                writer.writerow([well_names[rep-1], rfp_concs[row], gfp_concs[col], \n",
    "                                  rep])\n",
    "    # Also include metadata for three negative control wells.\n",
    "    writer.writerow([\"E10\", 0, 0, 1])\n",
    "    writer.writerow([\"E15\", 0, 0, 2])\n",
    "    writer.writerow([\"K5\", 0, 0, 3])\n",
    "                "
   ]
  },
  {
   "cell_type": "markdown",
   "metadata": {},
   "source": [
    "and to use that supplementary data:"
   ]
  },
  {
   "cell_type": "code",
   "execution_count": null,
   "metadata": {
    "collapsed": false
   },
   "outputs": [],
   "source": [
    "mt_biotek.tidy_biotek_data(data_filename, supplementary_filename, volume = 5)"
   ]
  },
  {
   "cell_type": "markdown",
   "metadata": {},
   "source": [
    "Now we can easily read our Biotek data using Pandas:"
   ]
  },
  {
   "cell_type": "code",
   "execution_count": null,
   "metadata": {
    "collapsed": false
   },
   "outputs": [],
   "source": [
    "import pandas as pd\n",
    "\n",
    "tidy_filename = os.path.join(\"biotek_examples\", \"RFP_GFP_traces_tidy.csv\")\n",
    "df = pd.read_csv(tidy_filename)"
   ]
  },
  {
   "cell_type": "markdown",
   "metadata": {},
   "source": [
    "Let's peek at the data in its tidy format:"
   ]
  },
  {
   "cell_type": "code",
   "execution_count": null,
   "metadata": {
    "collapsed": false
   },
   "outputs": [],
   "source": [
    "df.head()"
   ]
  },
  {
   "cell_type": "markdown",
   "metadata": {},
   "source": [
    "As you can see, each row of tidy data describes one well's read value for a single channel and gain at a single time, along with some metadata about that well.\n",
    "\n",
    "Now we can use Seaborn to start plotting data quickly and (relatively) easily. In this case, let's look at time traces of all three replicates of each combination of plasmids, first for GFP and then for RFP:"
   ]
  },
  {
   "cell_type": "code",
   "execution_count": null,
   "metadata": {
    "collapsed": false
   },
   "outputs": [],
   "source": [
    "import seaborn as sns\n",
    "import matplotlib.pyplot as plt\n",
    "rc={'lines.linewidth': 2, 'axes.labelsize': 14, 'axes.titlesize': 14}\n",
    "sns.set(rc=rc)\n",
    "%matplotlib inline\n",
    "\n",
    "gfp_df = df[(df.Gain == 100) & (df.Channel == \"GFP\")]\n",
    "rfp_df = df[(df.Gain == 100) & (df.Channel == \"RFP\")]\n",
    "grid = sns.FacetGrid(gfp_df, col = \"GFP Plasmid (nM)\", row = \"RFP Plasmid (nM)\", \n",
    "                     hue = \"Replicate\", margin_titles = True)\n",
    "grid.map(plt.plot, \"Time (hr)\", \"uM\")\n",
    "grid.fig.tight_layout(w_pad=1)\n",
    "plt.show()\n",
    "\n",
    "plt.clf()\n",
    "grid = sns.FacetGrid(rfp_df, col = \"GFP Plasmid (nM)\", row = \"RFP Plasmid (nM)\", \n",
    "                     hue = \"Replicate\", margin_titles = True)\n",
    "grid.map(plt.plot, \"Time (hr)\", \"uM\")\n",
    "grid.fig.tight_layout(w_pad=1)\n",
    "plt.show()"
   ]
  },
  {
   "cell_type": "markdown",
   "metadata": {},
   "source": [
    "### Automatic Unit Conversion"
   ]
  },
  {
   "cell_type": "markdown",
   "metadata": {},
   "source": [
    "Note in the example above that the absolute concentrations of fluorescent proteins were automatically calculated in µM. The murraylab_tools.biotek package has a small database of known calibrations for our lab's Biotek's. It currently knows how to calibrate with GFP, Citrine, RFP, CFP, Venus, and Cherry, each at gains 61 and 100. The plate ID is pulled from the Biotek's output file. Fluorescent protein identities are pulled from channel names. If the name of a channel is sufficiently similar to one of the known fluorescent proteins, you will get automatic unit conversion. Here \"sufficiently similar\" means \"contains as a substring\". If you use a channel name with more than one known fluorescent protein name in it, you're not guaranteed any particular result, so don't do that.  \n",
    "\n",
    "If you're feeling particularly meddlesome (or you want to add new calibration data to the package -- if so, please commit your changes to the repository!), you can see the calibration data near the top of the biotek.py file in the biotek subpackage of murraylab_tools. Calibration data is stored as a doubly-nested dictionary of the form\n",
    "\n",
    "`calibration_data[channel][biotek_id][gain] = AFU/µM`.\n",
    "\n",
    "If you don't use a channel containing the name of a calibrated substance, or you use a gain that hasn't been calibrated, then the µM concentration will be calculated as -1. "
   ]
  },
  {
   "cell_type": "markdown",
   "metadata": {},
   "source": [
    "# Convenience Functions"
   ]
  },
  {
   "cell_type": "markdown",
   "metadata": {},
   "source": [
    "### Background Subtraction"
   ]
  },
  {
   "cell_type": "markdown",
   "metadata": {},
   "source": [
    "Given a list of negative control wells, you can use the murraylab_tools.biotek package to subtract average background from your time series data:"
   ]
  },
  {
   "cell_type": "code",
   "execution_count": null,
   "metadata": {
    "collapsed": false,
    "scrolled": false
   },
   "outputs": [],
   "source": [
    "negative_control_wells = [\"E10\", \"E15\", \"K5\"]\n",
    "corrected_df = mt_biotek.background_subtract(df, negative_control_wells)\n",
    "corrected_df.head()"
   ]
  },
  {
   "cell_type": "markdown",
   "metadata": {},
   "source": [
    "`background_subtract` returns a dataframe of corrected data, which can be analyzed just like the dataframes returned in the example above. "
   ]
  },
  {
   "cell_type": "markdown",
   "metadata": {},
   "source": [
    "### Endpoint Averaging"
   ]
  },
  {
   "cell_type": "markdown",
   "metadata": {},
   "source": [
    "If you know your fluorescence data plateaus near the end of the run, you may want to quickly find the endpoint fluorescence of each well, averaged over the last few time points. You can quickly do this with the `endpoint_averages` function of the murraylab_tools.biotek package."
   ]
  },
  {
   "cell_type": "code",
   "execution_count": null,
   "metadata": {
    "collapsed": false
   },
   "outputs": [],
   "source": [
    "endpoint_df = mt_biotek.endpoint_averages(corrected_df)\n",
    "endpoint_df.head()"
   ]
  },
  {
   "cell_type": "markdown",
   "metadata": {},
   "source": [
    "Note that every numeric field has been averaged over the last five data points, so don't take the time column too seriously here. \n",
    "\n",
    "Now we can quickly plot endpoint averages for the two color channels:"
   ]
  },
  {
   "cell_type": "code",
   "execution_count": null,
   "metadata": {
    "collapsed": false
   },
   "outputs": [],
   "source": [
    "green_endpoints = endpoint_df[(endpoint_df.Channel == \"GFP\") & (endpoint_df.Gain == 61)]\n",
    "sns.lmplot(data = green_endpoints, x = 'GFP Plasmid (nM)', \n",
    "              y = 'uM', hue = 'RFP Plasmid (nM)', fit_reg = False,\n",
    "              x_jitter = 0.05)"
   ]
  },
  {
   "cell_type": "code",
   "execution_count": null,
   "metadata": {
    "collapsed": false
   },
   "outputs": [],
   "source": [
    "red_endpoints = endpoint_df[(endpoint_df.Channel == \"RFP\") & (endpoint_df.Gain == 100)]\n",
    "sns.lmplot(data = red_endpoints, x = 'RFP Plasmid (nM)', \n",
    "              y = 'uM', hue = 'GFP Plasmid (nM)', fit_reg = False,\n",
    "              x_jitter = 0.05)"
   ]
  },
  {
   "cell_type": "markdown",
   "metadata": {},
   "source": [
    "### Manual Unit Conversion"
   ]
  },
  {
   "cell_type": "markdown",
   "metadata": {},
   "source": [
    "If you want to manually convert an AFU readout to absolute concentration, you can "
   ]
  }
 ],
 "metadata": {
  "kernelspec": {
   "display_name": "Python 2",
   "language": "python",
   "name": "python2"
  },
  "language_info": {
   "codemirror_mode": {
    "name": "ipython",
    "version": 2
   },
   "file_extension": ".py",
   "mimetype": "text/x-python",
   "name": "python",
   "nbconvert_exporter": "python",
   "pygments_lexer": "ipython2",
   "version": "2.7.12"
  }
 },
 "nbformat": 4,
 "nbformat_minor": 1
}
