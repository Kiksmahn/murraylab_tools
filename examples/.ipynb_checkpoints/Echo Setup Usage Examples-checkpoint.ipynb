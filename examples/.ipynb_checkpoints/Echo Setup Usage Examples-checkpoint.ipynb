{
 "cells": [
  {
   "cell_type": "markdown",
   "metadata": {},
   "source": [
    "# Welcome to the Echo package"
   ]
  },
  {
   "cell_type": "markdown",
   "metadata": {},
   "source": [
    "The \"echo\" subpackage of murraylab_tools is designed to automate the setup of reactions (mostly TX-TL reactions) with the Echo. The EchoRun class can produce picklists for the Echo, as well as instructions for loading a source plate to go with those instructions, when appropriate. \n",
    "\n",
    "There are currently three main modes of operations of the Echo package, distinguished mainly by their inputs:\n",
    "- **TX-TL Setup Spreadsheet**: Takes a pair of CSV spreadsheets saved from a TX-TL setup spreadsheet (version 2.X). Use this for most TX-TL experiments. \n",
    "- **2D Dilution Series in TX-TL**: Takes a Python description of two materials and their dilutions. Use this when you want to run one or more two-way dilution series in TX-TL, for instance when calibrating Mg and K salts. \n",
    "- **Association Spreadsheet**: Takes one or more spreadsheets describing the contents of an Echo source plate, plus a simple spreadsheet describing final concentrations of the materials of those source plates in each destination. Use this for non-TX-TL experiments, or if you have a TX-TL experiment with more source materials than can be handled in a TX-TL setup spreadsheet."
   ]
  },
  {
   "cell_type": "markdown",
   "metadata": {},
   "source": [
    "*A word of warning*: The quick start examples will help you jump right into setting up an experiment, but they make a number of assumptions about your experiment. Some things you'll want to check before running your own:\n",
    "- **Reaction Size**: Default is 5 µL.\n",
    "- **Buffer/Extract Fractions**: Default is 0.24/0.51 (typical for French Press extracts).\n",
    "- **Source Plate Type**: Default is 384_PP. You probably want this.\n",
    "- **Source Plate Material**: Default is AQ_BP (buffer-like liquids).\n",
    "- **Destination Plate Type**: Default is \"Nunc_384_black_glassbottom\".\n",
    "- **Destination Plate Size**: The Echo package has no knowledge of the destination plate. *There is no check to keep you from defining picks off the edge of the destination plate*.\n",
    "- **Controls**: TX-TL experiments come with a negative control. Most TX-TL setup spreadsheets also define a positive control.\n",
    "- **Dead Volume/Max Volume**: Default dead volume is 20 µL, including loss to meniscus. Default max volume is 65 µL.\n",
    "- **Volume/Aliquot of Buffer and Extract**: Default is 30 µL extract/aliquot and 37 µL buffer/aliquot.\n",
    "\n",
    "Additionally, be aware that the TX-TL setup scripts keep track of which source plate wells they've used in a .dat file. If you run those experiments repeatedly, they'll fill up the file and eventually error out when they run out of wells on the plate. \n",
    "\n",
    "You can read more about how the echo package works in the next section, \"**How it all works**\", or you can skip to the example usage sections below that. For more information on tweaking settings, see **Tweaking Settings** at the end of this notebook."
   ]
  },
  {
   "cell_type": "markdown",
   "metadata": {},
   "source": [
    "# How it all works"
   ]
  },
  {
   "cell_type": "markdown",
   "metadata": {},
   "source": [
    "Every project begins with an EchoRun object. This object holds (nearly) all of the information about an experiment, and is ultimately responsible for coordinating plates and materials, and for actually writing picklists and experimental protocols. \n",
    "\n",
    "Most EchoRun objects need a SourcePlate object. This object is responsible for keeping track of which wells have been used, and for assigning new wells on the source plate to materials that you'll want to transfer. It will try to assign wells in a way that keeps the same material in a contiguous block, buffered on either side by an empty well for ease of pipetting. SourcePlate objects are also typically associated with a .dat tracking file that lists which wells have been used on the plate. That way, you can use the same source plate over many experiments without having to manually program in which wells are forbidden. The SourcePlate object will read this file to learn what it has available to it, and will automatically write back to the same file whenever the EchoRun object controlling it writes a picklist. \n",
    "\n",
    "Materials (DNA, chemicals, water, TX-TL, etc) on a source plate are represented by EchoSourceMaterial objects. An EchoSourceMaterial has a concentration, which is always stored in nM. However, because dsDNA is usually measured in ng/uL, and dsDNA is one of the most common materials used, EchoSourceMaterials by default assume that the concentration set in their constructors is in units of ng/uL. Any EchoSourceMaterial with `length` > 0 will convert that ng/uL concentration into an internal nM concentration. Only if the length of the EchoSourceMaterial is set to 0 will it use its set concentration value directly. This convention appears in several other contexts in the echo package.\n",
    "\n",
    "An EchoSourceMaterial is always associated with a SourcePlate. The EchoSourceMaterial keeps track of how much of itself has been used, and will request that wells be allocated on the SourcePlate. \n",
    "\n",
    "To generate an Echo picklist, you will generally need to do three things:\n",
    "- Building an EchoRun object. This usually just means setting the name of a source plate tracking file\n",
    "- Describe the experiment. This almost always means one or more calls to `build_picklist_from_txtl_setup_csvs`, `build_dilution_series`, or `build_picklist_from_association_spreadsheet` from your EchoRun object. What this entails depends on your experiment; TX-TL setup with a setup spreadsheet and association file setups are almost completely defined by external files, while 2D dilution series experiments require some definition in your script. \n",
    "- Write the picklist, which is done with a call to `write_picklist` from your EchoRun object. \n",
    "\n",
    "For more information, see the examples below."
   ]
  },
  {
   "cell_type": "markdown",
   "metadata": {},
   "source": [
    "## TX-TL Setup Spreadsheet"
   ]
  },
  {
   "cell_type": "markdown",
   "metadata": {},
   "source": [
    "### Quick Start Example"
   ]
  },
  {
   "cell_type": "markdown",
   "metadata": {},
   "source": [
    "The following creates an Echo picklist and experimental protocol for a variety of fluorescent protein mixes described in \"inputs/TX-TL_setup_example.xlsx\"."
   ]
  },
  {
   "cell_type": "code",
   "execution_count": 2,
   "metadata": {
    "collapsed": false
   },
   "outputs": [],
   "source": [
    "import murraylab_tools.echo as mt_echo\n",
    "import os.path\n",
    "\n",
    "# Relevant input and output files. Check these out for examples of input file format.\n",
    "txtl_inputs  = os.path.join(\"txtl_setup\", \"inputs\")\n",
    "txtl_outputs = os.path.join(\"txtl_setup\", \"outputs\")\n",
    "stock_file  = os.path.join(txtl_inputs, \"TX-TL_setup_example_stocks.csv\") # Source materials\n",
    "recipe_file = os.path.join(txtl_inputs, \"TX-TL_setup_example_recipe.csv\") # Experimental setup\n",
    "plate_file  = os.path.join(txtl_inputs, \"TX-TL_setup_example_plate.dat\")  # Keeps track of wells used \n",
    "output_name = os.path.join(txtl_outputs, \"TX-TL_setup_example\") # Output (both a picklist and a\n",
    "                                                                # small protocol for building the\n",
    "                                                                # source plate)\n",
    "\n",
    "# Build an EchoRun object\n",
    "txtl_plate = mt_echo.SourcePlate(filename = plate_file)\n",
    "txtl_echo_calculator = mt_echo.EchoRun(plate = txtl_plate)\n",
    "\n",
    "# Describe the experiment\n",
    "txtl_echo_calculator.build_picklist_from_txtl_setup_csvs(stock_file, recipe_file)\n",
    "# Write results\n",
    "txtl_echo_calculator.write_picklist(output_name)"
   ]
  },
  {
   "cell_type": "markdown",
   "metadata": {},
   "source": [
    " ### More Information"
   ]
  },
  {
   "cell_type": "markdown",
   "metadata": {},
   "source": [
    "## 2D Dilution Series  in TX-TL"
   ]
  },
  {
   "cell_type": "markdown",
   "metadata": {},
   "source": [
    "### Quick Start Example"
   ]
  },
  {
   "cell_type": "markdown",
   "metadata": {},
   "source": [
    "The following creates an Echo picklist and simple experimental protcol for a two-way dilution series of a reporter plasmid and inducer. "
   ]
  },
  {
   "cell_type": "code",
   "execution_count": 3,
   "metadata": {
    "collapsed": false
   },
   "outputs": [],
   "source": [
    "import murraylab_tools.echo as mt_echo\n",
    "import os.path\n",
    "\n",
    "# Relevant input and output files. Check these out for examples of input file format.\n",
    "dilution_inputs  = os.path.join(\"2D_dilution_series\", \"inputs\")\n",
    "dilution_outputs = os.path.join(\"2D_dilution_series\", \"outputs\")\n",
    "plate_file  = os.path.join(dilution_inputs, \"dilution_setup_example_plate.dat\") # Keeps track of wells used\n",
    "output_name = os.path.join(dilution_outputs, \"dilution_setup_example\") # Output (both a picklist and a\n",
    "                                                               # small protocol for building the\n",
    "                                                               # source plate)\n",
    "\n",
    "# Build an EchoRun object\n",
    "dilution_plate = mt_echo.SourcePlate(filename = plate_file)\n",
    "dilution_echo_calculator = mt_echo.EchoRun(plate = dilution_plate)\n",
    "\n",
    "# Set final concentrations of two materials\n",
    "gfp_final_concentrations = range(0,6,1) # in nM\n",
    "atc_final_concentrations = range(0,100,10) # in ng/uL\n",
    "\n",
    "# Define reporter plasmid material\n",
    "gfp_conc = 294  # Concentration in ng/uL\n",
    "gfp_len  = 3202 # Size of DNA in bp\n",
    "gfp = mt_echo.EchoSourceMaterial('GFP Plasmid', gfp_conc, gfp_len, dilution_plate)\n",
    "\n",
    "# Define inducer material\n",
    "atc_conc = 1000 # Concentration in ng/uL (important that this matches the units of the final concentrations)\n",
    "atc_len  = 0    # This isn't dsDNA, so it has 0 length. \n",
    "atc = mt_echo.EchoSourceMaterial(\"ATc\", atc_conc, atc_len, dilution_plate)\n",
    "\n",
    "# Plan out the experiment\n",
    "starting_well = \"D2\"\n",
    "dilution_echo_calculator.build_dilution_series(gfp, atc, gfp_final_concentrations,\n",
    "                                               atc_final_concentrations, starting_well)\n",
    "# Write results\n",
    "dilution_echo_calculator.write_picklist(output_name)"
   ]
  },
  {
   "cell_type": "markdown",
   "metadata": {},
   "source": [
    "### More Information"
   ]
  },
  {
   "cell_type": "markdown",
   "metadata": {},
   "source": [
    "## Association Spreadsheet"
   ]
  },
  {
   "cell_type": "markdown",
   "metadata": {},
   "source": [
    "### Quick Start Example"
   ]
  },
  {
   "cell_type": "markdown",
   "metadata": {},
   "source": [
    "The following creates an Echo picklist for an automated PCR setup with three sets of primers to be applied individually to three different plasmids, as defined in a pair of CSV files (one defining the source plate, one describing what should go in the destination plates). "
   ]
  },
  {
   "cell_type": "code",
   "execution_count": 4,
   "metadata": {
    "collapsed": false
   },
   "outputs": [],
   "source": [
    "import murraylab_tools.echo as mt_echo\n",
    "import os.path\n",
    "\n",
    "# Relevant input and output files. Check these out for examples of input file format.\n",
    "assoc_inputs  = os.path.join(\"association_list\", \"inputs\")\n",
    "assoc_outputs = os.path.join(\"association_list\", \"outputs\") \n",
    "stock_file = os.path.join(assoc_inputs, 'association_source_sheet.csv')\n",
    "assoc_file = os.path.join(assoc_inputs, 'association_final_sheet.csv')\n",
    "assoc_name = os.path.join(assoc_outputs, 'association_example')\n",
    "\n",
    "# Build an EchoRun object\n",
    "assoc_echo_calculator = mt_echo.EchoRun()\n",
    "assoc_echo_calculator.rxn_vol = 50000 # PCR is large-volume!\n",
    "\n",
    "# Define which column of the source file is what\n",
    "name_col  = 'B'\n",
    "conc_col  = 'C'\n",
    "len_col   = 'D'\n",
    "well_col  = 'A'\n",
    "plate_col = 'E'\n",
    "\n",
    "# Define the source plate based on the stock file.\n",
    "assoc_echo_calculator.load_source_plate(stock_file, name_col, conc_col,\n",
    "                                        len_col, well_col, plate_col)\n",
    "\n",
    "# Build a protocol, based on the association file.\n",
    "assoc_echo_calculator.build_picklist_from_association_spreadsheet(assoc_file,\n",
    "                                                                  well_col)\n",
    "\n",
    "# Write the picklist\n",
    "assoc_echo_calculator.write_picklist(assoc_name)"
   ]
  },
  {
   "cell_type": "markdown",
   "metadata": {},
   "source": [
    "### More Information"
   ]
  },
  {
   "cell_type": "markdown",
   "metadata": {},
   "source": [
    "# Tweaking Settings"
   ]
  },
  {
   "cell_type": "code",
   "execution_count": 5,
   "metadata": {
    "collapsed": true
   },
   "outputs": [],
   "source": [
    "import murraylab_tools.echo as mt_echo\n",
    "import os.path\n",
    "\n",
    "plate_file = os.path.join(\"tweaking\", \"plate_file_example.dat\")\n",
    "\n",
    "# Build an EchoRun object\n",
    "example_plate = mt_echo.SourcePlate(filename = plate_file)\n",
    "example_echo_calculator = mt_echo.EchoRun(plate = example_plate)"
   ]
  },
  {
   "cell_type": "markdown",
   "metadata": {},
   "source": [
    "#### To change the reaction volume:\n",
    "\n",
    "Reaction volume is a property of an EchoRun object."
   ]
  },
  {
   "cell_type": "code",
   "execution_count": 6,
   "metadata": {
    "collapsed": true
   },
   "outputs": [],
   "source": [
    "example_echo_calculator.rxn_vol = 10.5"
   ]
  },
  {
   "cell_type": "markdown",
   "metadata": {},
   "source": [
    "Make sure to run this before running `build_picklist_from_association_spreadsheet` or `build_dilution_series`. You almost certainly shouldn't do this at all when using `build_picklist_from_txtl_setup_csvs`, because that function will automatically extract a reaction volume from the setup spreadsheet."
   ]
  },
  {
   "cell_type": "markdown",
   "metadata": {},
   "source": [
    "#### To change the buffer/extract fractions:\n",
    "\n",
    "This is really only relevant for the 2D dilution series TX-TL setup (`build_dilution_series`) -- TX-TL setup from a spreadsheet pulls the extract fraction from the spreadsheet, and the association spreadsheet method has no knowledge of TX-TL. Accordingly, the extract fraction is an optional argument in `build_dilution_series`."
   ]
  },
  {
   "cell_type": "code",
   "execution_count": 7,
   "metadata": {
    "collapsed": true
   },
   "outputs": [],
   "source": [
    "extract_fraction = 0.17\n",
    "example_echo_calculator.build_dilution_series(gfp, atc, gfp_final_concentrations,\n",
    "                                              atc_final_concentrations, starting_well,\n",
    "                                              extract_fraction)"
   ]
  },
  {
   "cell_type": "markdown",
   "metadata": {},
   "source": [
    "#### To change the source plate type/material type:\n",
    "\n",
    "Source plate types and material types are set as optional arguments in the constructor of a SourcePlate object. The type and material of a source plate are both set by a string, which can be any string that the Echo Plate Reformat software will recognize."
   ]
  },
  {
   "cell_type": "code",
   "execution_count": 8,
   "metadata": {
    "collapsed": false
   },
   "outputs": [],
   "source": [
    "plate_type = \"384PP_AQ_BP\" # This is actually the default plate value\n",
    "retyped_example_plate = mt_echo.SourcePlate(filename = plate_file, SPtype = plate_type)\n",
    "another_example_echo_calculator = mt_echo.EchoRun(plate = retyped_example_plate)"
   ]
  },
  {
   "cell_type": "markdown",
   "metadata": {},
   "source": [
    "#### To change the source plate name:\n",
    "\n",
    "Source plate names are set much like source plate types with the argument `SPname`. In addition, as a shorthand, you can set `SPname` to be a number N, in which case the plate will be named `Source[N]`. "
   ]
  },
  {
   "cell_type": "code",
   "execution_count": 9,
   "metadata": {
    "collapsed": true
   },
   "outputs": [],
   "source": [
    "plate_name = \"FirstPlate\"\n",
    "renamed_example_plate = mt_echo.SourcePlate(filename = plate_file, SPname = plate_name)\n",
    "yet_another_example_echo_calculator = mt_echo.EchoRun(plate = renamed_example_plate)"
   ]
  },
  {
   "cell_type": "markdown",
   "metadata": {},
   "source": [
    "**To change the destination plate type:**\n",
    "\n",
    "Destination plate types are determined and stored directly in the EchoRun object. The destination plate type can be set by the optional argument `DPtype` in the constructor of an EchoRun object, or set manually any time before calling `write_picklist` on that EchoRun."
   ]
  },
  {
   "cell_type": "code",
   "execution_count": 10,
   "metadata": {
    "collapsed": true
   },
   "outputs": [],
   "source": [
    "calculator_with_odd_destination = mt_echo.EchoRun(plate = example_plate, DPtype = \"some_kind_of_plate\")\n",
    "calculator_with_odd_destination.DPtype = \"Nunc_384_black_glassbottom\" # Just kidding!\n",
    "# ...\n",
    "# calculator_with_odd_destination.write_picklist(...)\n",
    "#..."
   ]
  },
  {
   "cell_type": "markdown",
   "metadata": {},
   "source": [
    "**To change dead volume and max volume**:\n",
    "\n",
    "You probably shouldn't do this. If you absolutely must squeeze every last bit of efficiency out of your source wells, you can set the `dead_volume` and `max_volume` variables, which are static variables in the murraylab_tools.echo package. If you change them, also make sure to set the static variable `usable_volume`, which defines the volume of material in a well that can actually be used by the Echo (this is normally calculated from `dead_volume` and `max_volume` at package import). Also, you should do this before running any experimental protocol function."
   ]
  },
  {
   "cell_type": "code",
   "execution_count": 11,
   "metadata": {
    "collapsed": false
   },
   "outputs": [],
   "source": [
    "from murraylab_tools.echo.echo_functions import dead_volume, max_volume, usable_volume\n",
    "dead_volume   = 10000 # Volume in nL!\n",
    "max_volume    = 75000 # Volume in nL!\n",
    "usable_volume = max_volume - dead_volume # Don't forget to re-calculate this!"
   ]
  },
  {
   "cell_type": "markdown",
   "metadata": {},
   "source": [
    "**To change buffer/extract aliquot size:**\n",
    "\n",
    "Buffer and extract aliquot size, like destination plate type, are managed by an EchoRun object, and can be set either manually (before making a `write_picklist` call) or in the constructor of that EchoRun object. \n",
    "\n",
    "Note that both aliquot sizes are in units of nL, not uL."
   ]
  },
  {
   "cell_type": "code",
   "execution_count": 12,
   "metadata": {
    "collapsed": false
   },
   "outputs": [],
   "source": [
    "custom_aliquot_calculator = mt_echo.EchoRun(plate = example_plate, \n",
    "                                            extract_per_aliquot = 50000,\n",
    "                                            buffer_per_aliquot = 100000)\n",
    "custom_aliquot_calculator.extract_per_aliquot = 75000\n",
    "custom_aliquot_calculator.buffer_per_aliquot  = 150000\n",
    "# ...\n",
    "# calculator_with_odd_destination.write_picklist(...)\n",
    "#..."
   ]
  }
 ],
 "metadata": {
  "kernelspec": {
   "display_name": "Python 2",
   "language": "python",
   "name": "python2"
  },
  "language_info": {
   "codemirror_mode": {
    "name": "ipython",
    "version": 2
   },
   "file_extension": ".py",
   "mimetype": "text/x-python",
   "name": "python",
   "nbconvert_exporter": "python",
   "pygments_lexer": "ipython2",
   "version": "2.7.12"
  }
 },
 "nbformat": 4,
 "nbformat_minor": 1
}
