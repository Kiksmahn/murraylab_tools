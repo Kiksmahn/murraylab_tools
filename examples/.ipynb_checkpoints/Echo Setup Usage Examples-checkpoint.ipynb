{
 "cells": [
  {
   "cell_type": "markdown",
   "metadata": {},
   "source": [
    "# Welcome to the Echo package"
   ]
  },
  {
   "cell_type": "markdown",
   "metadata": {},
   "source": [
    "The \"echo\" subpackage of murraylab_tools is designed to automate the setup of reactions (mostly TX-TL reactions) with the Echo. The EchoRun class can produce picklists for the Echo, as well as instructions for loading a source plate to go with those instructions, when appropriate. \n",
    "\n",
    "There are currently three main modes of operations of the Echo package, distinguished mainly by their inputs:\n",
    "- **TX-TL Setup Spreadsheet**: Takes a pair of CSV spreadsheets saved from a TX-TL setup spreadsheet (version 2.X). Use this for most TX-TL experiments. \n",
    "- **2D Dilution Series in TX-TL**: Takes a Python description of two materials and their dilutions. Use this when you want to run one or more two-way dilution series in TX-TL, for instance when calibrating Mg and K salts. \n",
    "- **Association Spreadsheet**: Takes one or more spreadsheets describing the contents of an Echo source plate, plus a simple spreadsheet describing final concentrations of the materials of those source plates in each destination. Use this for non-TX-TL experiments, or if you have a TX-TL experiment with more source materials than can be handled in a TX-TL setup spreadsheet."
   ]
  },
  {
   "cell_type": "markdown",
   "metadata": {},
   "source": [
    "*A word of warning*: The quick start examples will help you jump right into setting up an experiment, but they make a number of assumptions about your experiment. Some things you'll want to check before running your own:\n",
    "- **Reaction Size**: Default is 5 µL.\n",
    "- **Buffer/Extract Fractions**: Default is 0.24/0.51 (typical for French Press extracts).\n",
    "- **Source Plate Type**: Default is 384_PP. You probably want this.\n",
    "- **Source Plate Material**: Default is AQ_BP (buffer-like liquids).\n",
    "- **Destination Plate Type**: Default is generic 384 well.\n",
    "- **Controls**: TX-TL experiments come with a negative control. Most TX-TL setup spreadsheets also define a positive control.\n",
    "- **Dead Volume/Max Volume**: Default dead volume is 20 µL, including loss to meniscus. Default max volume is 65 µL.\n",
    "- **Volume/Aliquot of Buffer and Extract**: Default is 30 µL extract/aliquot and 37 µL buffer/aliquot.\n",
    "\n",
    "Additionally, be aware that the TX-TL setup scripts keep track of which source plate wells they've used in a .dat file. If you run those experiments repeatedly, they'll fill up the file and eventually error out when they run out of wells on the plate. \n",
    "\n",
    "For more information, see **Tweaking Settings** at the end of this notebook."
   ]
  },
  {
   "cell_type": "markdown",
   "metadata": {},
   "source": [
    "# How it all works"
   ]
  },
  {
   "cell_type": "markdown",
   "metadata": {},
   "source": [
    "## TX-TL Setup Spreadsheet"
   ]
  },
  {
   "cell_type": "markdown",
   "metadata": {},
   "source": [
    "### Quick Start Example"
   ]
  },
  {
   "cell_type": "code",
   "execution_count": 4,
   "metadata": {
    "collapsed": false
   },
   "outputs": [
    {
     "ename": "NameError",
     "evalue": "name 'stock_filename' is not defined",
     "output_type": "error",
     "traceback": [
      "\u001b[0;31m---------------------------------------------------------------------------\u001b[0m",
      "\u001b[0;31mNameError\u001b[0m                                 Traceback (most recent call last)",
      "\u001b[0;32m<ipython-input-4-f4257f9671b9>\u001b[0m in \u001b[0;36m<module>\u001b[0;34m()\u001b[0m\n\u001b[1;32m     15\u001b[0m \u001b[0;34m\u001b[0m\u001b[0m\n\u001b[1;32m     16\u001b[0m \u001b[0;31m# Describe the experiment\u001b[0m\u001b[0;34m\u001b[0m\u001b[0;34m\u001b[0m\u001b[0m\n\u001b[0;32m---> 17\u001b[0;31m txtl_echo_calculator.build_picklist_from_txtl_setup_csvs(stock_filename,\n\u001b[0m\u001b[1;32m     18\u001b[0m                                                     recipe_filename)\n\u001b[1;32m     19\u001b[0m \u001b[0;31m# Write results\u001b[0m\u001b[0;34m\u001b[0m\u001b[0;34m\u001b[0m\u001b[0m\n",
      "\u001b[0;31mNameError\u001b[0m: name 'stock_filename' is not defined"
     ]
    }
   ],
   "source": [
    "import murraylab_tools.echo as mt_echo\n",
    "import os.path\n",
    "\n",
    "# Relevant input files. Check these out for examples of input file format.\n",
    "stock_file  = os.path.join(\"inputs\", \"TX-TL_setup_example_stocks.csv\") # Source materials\n",
    "recipe_file = os.path.join(\"inputs\", \"TX-TL_setup_example_recipe.csv\") # Experimental setup\n",
    "plate_file  = os.path.join(\"inputs\", \"TX-TL_setup_example_plate.dat\")  # Keeps track of wells used \n",
    "output_name = os.path.join(\"outputs\", \"TX-TL_setup_example\") # Output (both a picklist and a\n",
    "                                                                # small protocol for building the\n",
    "                                                                # source plate)\n",
    "\n",
    "# Build an EchoRun object\n",
    "txtl_plate = mt_echo.SourcePlate(filename = plate_file)\n",
    "txtl_echo_calculator = mt_echo.EchoRun(plate = txtl_plate)\n",
    "\n",
    "# Describe the experiment\n",
    "txtl_echo_calculator.build_picklist_from_txtl_setup_csvs(stock_file, recipe_filename)\n",
    "# Write results\n",
    "txtl_echo_calculator.write_picklist(output_name)"
   ]
  },
  {
   "cell_type": "markdown",
   "metadata": {},
   "source": [
    " ### More Information"
   ]
  },
  {
   "cell_type": "markdown",
   "metadata": {},
   "source": [
    "## 2D Dilution Series  in TX-TL"
   ]
  },
  {
   "cell_type": "markdown",
   "metadata": {},
   "source": [
    "### Quick Start Example"
   ]
  },
  {
   "cell_type": "code",
   "execution_count": null,
   "metadata": {
    "collapsed": true
   },
   "outputs": [],
   "source": [
    "dilution_plate_file = os.path.join(\"inputs\", \"dilution_setup_example_plate.dat\")\n",
    "dilution_plate = SourcePlate(filename = dilution_plate_file)\n",
    "dilution_echo_calculator = EchoRun(plate = dilution_plate)\n",
    "\n",
    "gfp_final_concentrations = range(0,6,1) # in nM\n",
    "atc_final_concentrations = range(0,100,10) # in ng/uL\n",
    "\n",
    "# GFP Plasmid Material\n",
    "gfp_conc = 294  # Concentration in ng/uL\n",
    "gfp_len  = 3202 # Size of DNA in bp\n",
    "gfp = EchoSourceMaterial('GFP Plasmid', gfp_conc, gfp_len)\n",
    "\n",
    "# Reporter plasmid\n",
    "dna2_conc = 300 #564 ng/ul stock\n",
    "dna2_len = 4656 # bp\n",
    "dna2 = EchoSourceMaterial(\"Reporter\", dna2_conc, dna2_len, [\"C2\"])\n",
    "\n",
    "dilution_echo_calculator.build_dilution_series(dna1, dna2, dna1_final,\n",
    "                                                dna2_final, \"D2\")\n",
    "dilution_picklist_filename = os.path.join(example_loc, 'dilution_series',\n",
    "                                          'bxb1')\n",
    "dilution_echo_calculator.write_picklist(dilution_picklist_filename)"
   ]
  },
  {
   "cell_type": "markdown",
   "metadata": {},
   "source": [
    "### More Information"
   ]
  },
  {
   "cell_type": "markdown",
   "metadata": {},
   "source": [
    "## Association Spreadsheet"
   ]
  },
  {
   "cell_type": "markdown",
   "metadata": {},
   "source": [
    "### Quick Start Example"
   ]
  },
  {
   "cell_type": "code",
   "execution_count": null,
   "metadata": {
    "collapsed": true
   },
   "outputs": [],
   "source": []
  },
  {
   "cell_type": "markdown",
   "metadata": {},
   "source": [
    "### More Information"
   ]
  },
  {
   "cell_type": "markdown",
   "metadata": {},
   "source": [
    "# Tweaking Settings"
   ]
  },
  {
   "cell_type": "code",
   "execution_count": null,
   "metadata": {
    "collapsed": true
   },
   "outputs": [],
   "source": []
  }
 ],
 "metadata": {
  "kernelspec": {
   "display_name": "Python 2",
   "language": "python",
   "name": "python2"
  },
  "language_info": {
   "codemirror_mode": {
    "name": "ipython",
    "version": 2
   },
   "file_extension": ".py",
   "mimetype": "text/x-python",
   "name": "python",
   "nbconvert_exporter": "python",
   "pygments_lexer": "ipython2",
   "version": "2.7.12"
  }
 },
 "nbformat": 4,
 "nbformat_minor": 1
}
