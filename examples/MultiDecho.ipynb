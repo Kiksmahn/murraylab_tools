{
 "cells": [
  {
   "cell_type": "code",
   "execution_count": 3,
   "metadata": {},
   "outputs": [
    {
     "ename": "SyntaxError",
     "evalue": "invalid syntax (<ipython-input-3-4a5d02628288>, line 4)",
     "output_type": "error",
     "traceback": [
      "\u001b[1;36m  File \u001b[1;32m\"<ipython-input-3-4a5d02628288>\"\u001b[1;36m, line \u001b[1;32m4\u001b[0m\n\u001b[1;33m    import \"..\\\\murraylab_tools\\\\echoMultiDInducer\\\\echoMultiDInducer\" as multiD\u001b[0m\n\u001b[1;37m                                                                     ^\u001b[0m\n\u001b[1;31mSyntaxError\u001b[0m\u001b[1;31m:\u001b[0m invalid syntax\n"
     ]
    }
   ],
   "source": [
    "import os\n",
    "mypath = os.path.join(\"multiD\")\n",
    "import murraylab_tools.echoMultiDInducer as multiD\n",
    "#import \"..\\\\murraylab_tools\\\\echoMultiDInducer\\\\echoMultiDInducer\" as multiD"
   ]
  },
  {
   "cell_type": "code",
   "execution_count": 2,
   "metadata": {},
   "outputs": [
    {
     "name": "stdout",
     "output_type": "stream",
     "text": [
      "load inducers into: \n",
      "SAL : ['K7', 'L7', 'M7', 'N7']\n",
      "ATC : ['K8', 'L8', 'M8', 'N8']\n",
      "CIN : ['K9', 'L9', 'M9', 'N9']\n",
      "\n",
      "make 220.000000 ul of 100x each inducer\n",
      "\n",
      "constructs start at: \n",
      "spc3 : A1\n",
      "spc6 : A5\n",
      "spc0a1 : A9\n",
      "spc18b1 : A13\n",
      "spc26c6 : A17\n",
      "spc-18e3 : A21\n",
      "prepare 3.52 ml of each construct for 50 well volume\n"
     ]
    },
    {
     "data": {
      "image/png": "[encoded data removed]",
      "text/plain": [
       "<matplotlib.figure.Figure at 0x15ad1b1c2e8>"
      ]
     },
     "metadata": {},
     "output_type": "display_data"
    },
    {
     "ename": "NameError",
     "evalue": "name 'os' is not defined",
     "output_type": "error",
     "traceback": [
      "\u001b[1;31m---------------------------------------------------------------------------\u001b[0m",
      "\u001b[1;31mNameError\u001b[0m                                 Traceback (most recent call last)",
      "\u001b[1;32m<ipython-input-2-ca16efe21edf>\u001b[0m in \u001b[0;36m<module>\u001b[1;34m()\u001b[0m\n\u001b[0;32m     14\u001b[0m     \u001b[1;33m[\u001b[0m\u001b[1;34m\"CIN\"\u001b[0m\u001b[1;33m,\u001b[0m\u001b[1;33m[\u001b[0m\u001b[1;36m100\u001b[0m\u001b[1;33m,\u001b[0m\u001b[1;36m85\u001b[0m\u001b[1;33m,\u001b[0m\u001b[1;36m75\u001b[0m\u001b[1;33m,\u001b[0m\u001b[1;36m50\u001b[0m\u001b[1;33m,\u001b[0m\u001b[1;36m0\u001b[0m\u001b[1;33m]\u001b[0m\u001b[1;33m,\u001b[0m\u001b[1;33m[\u001b[0m\u001b[1;34m\"K9\"\u001b[0m\u001b[1;33m,\u001b[0m\u001b[1;36m4\u001b[0m\u001b[1;33m]\u001b[0m\u001b[1;33m]\u001b[0m\u001b[1;33m,\u001b[0m\u001b[1;33m\u001b[0m\u001b[0m\n\u001b[0;32m     15\u001b[0m ]\n\u001b[1;32m---> 16\u001b[1;33m \u001b[0mx\u001b[0m\u001b[1;33m=\u001b[0m\u001b[0mmultiD\u001b[0m\u001b[1;33m.\u001b[0m\u001b[0mmakeGridWrapper\u001b[0m\u001b[1;33m(\u001b[0m\u001b[0minducers\u001b[0m\u001b[1;33m,\u001b[0m\u001b[0mconstructs\u001b[0m\u001b[1;33m,\u001b[0m\u001b[0mfname\u001b[0m\u001b[1;33m,\u001b[0m\u001b[0mavoidedges\u001b[0m\u001b[1;33m,\u001b[0m        \u001b[0mmaxinducer\u001b[0m\u001b[1;33m,\u001b[0m\u001b[0mwellvol\u001b[0m\u001b[1;33m,\u001b[0m\u001b[0mshuffle\u001b[0m\u001b[1;33m,\u001b[0m\u001b[0mwellorder\u001b[0m\u001b[1;33m=\u001b[0m\u001b[0mwellorder\u001b[0m\u001b[1;33m,\u001b[0m\u001b[0mmypath\u001b[0m\u001b[1;33m=\u001b[0m\u001b[0mmypath\u001b[0m\u001b[1;33m)\u001b[0m\u001b[1;33m\u001b[0m\u001b[0m\n\u001b[0m",
      "\u001b[1;32m~\\Documents\\GitHub\\murraylab_tools\\murraylab_tools\\echoMultiDInducer\\echoMultiDInducer.py\u001b[0m in \u001b[0;36mmakeGridWrapper\u001b[1;34m(inducers, constructs, fname, avoidedges, maxinducer, wellvol, shuffle, wellorder, mypath)\u001b[0m\n\u001b[0;32m    257\u001b[0m         \u001b[0mprint\u001b[0m\u001b[1;33m(\u001b[0m\u001b[1;34m\"{} : {}\"\u001b[0m\u001b[1;33m.\u001b[0m\u001b[0mformat\u001b[0m\u001b[1;33m(\u001b[0m\u001b[0mcname\u001b[0m\u001b[1;33m,\u001b[0m\u001b[0mstr\u001b[0m\u001b[1;33m(\u001b[0m\u001b[0mcwell\u001b[0m\u001b[1;33m)\u001b[0m\u001b[1;33m)\u001b[0m\u001b[1;33m)\u001b[0m\u001b[1;33m\u001b[0m\u001b[0m\n\u001b[0;32m    258\u001b[0m     \u001b[0mprint\u001b[0m\u001b[1;33m(\u001b[0m\u001b[1;34m\"prepare {} ml of each construct for {} well volume\"\u001b[0m\u001b[1;33m.\u001b[0m\u001b[0mformat\u001b[0m\u001b[1;33m(\u001b[0m\u001b[0mint\u001b[0m\u001b[1;33m(\u001b[0m\u001b[0mwellvol\u001b[0m\u001b[1;33m*\u001b[0m\u001b[1;36m1.1\u001b[0m\u001b[1;33m*\u001b[0m\u001b[1;36m384\u001b[0m\u001b[1;33m/\u001b[0m\u001b[0mlen\u001b[0m\u001b[1;33m(\u001b[0m\u001b[0mconstructs\u001b[0m\u001b[1;33m)\u001b[0m\u001b[1;33m)\u001b[0m\u001b[1;33m/\u001b[0m\u001b[1;36m1000\u001b[0m\u001b[1;33m,\u001b[0m\u001b[0mwellvol\u001b[0m\u001b[1;33m)\u001b[0m\u001b[1;33m)\u001b[0m\u001b[1;33m\u001b[0m\u001b[0m\n\u001b[1;32m--> 259\u001b[1;33m     \u001b[1;32mreturn\u001b[0m \u001b[0mmakeGridFile\u001b[0m\u001b[1;33m(\u001b[0m\u001b[0mvolonly\u001b[0m\u001b[1;33m,\u001b[0m\u001b[0msourceonly\u001b[0m\u001b[1;33m,\u001b[0m\u001b[0mconwells\u001b[0m\u001b[1;33m,\u001b[0m\u001b[0mfname\u001b[0m\u001b[1;33m,\u001b[0m\u001b[0mavoidedges\u001b[0m\u001b[1;33m,\u001b[0m\u001b[0mconstructs\u001b[0m\u001b[1;33m,\u001b[0m\u001b[0mindonly\u001b[0m\u001b[1;33m,\u001b[0m\u001b[0mshuffle\u001b[0m\u001b[1;33m,\u001b[0m\u001b[0mwellorder\u001b[0m\u001b[1;33m=\u001b[0m\u001b[0mwellorder\u001b[0m\u001b[1;33m,\u001b[0m\u001b[0mmypath\u001b[0m\u001b[1;33m=\u001b[0m\u001b[0mmypath\u001b[0m\u001b[1;33m)\u001b[0m\u001b[1;33m\u001b[0m\u001b[0m\n\u001b[0m",
      "\u001b[1;32m~\\Documents\\GitHub\\murraylab_tools\\murraylab_tools\\echoMultiDInducer\\echoMultiDInducer.py\u001b[0m in \u001b[0;36mmakeGridFile\u001b[1;34m(inducers, wells, construct, fname, blacklist, constructnames, inducernames, shuffle, wellorder, draw, mypath)\u001b[0m\n\u001b[0;32m    142\u001b[0m     \u001b[1;32mif\u001b[0m\u001b[1;33m(\u001b[0m\u001b[0mdraw\u001b[0m\u001b[1;33m)\u001b[0m\u001b[1;33m:\u001b[0m\u001b[1;33m\u001b[0m\u001b[0m\n\u001b[0;32m    143\u001b[0m         \u001b[0mdrawPlate\u001b[0m\u001b[1;33m(\u001b[0m\u001b[0mwlist\u001b[0m\u001b[1;33m)\u001b[0m\u001b[1;33m\u001b[0m\u001b[0m\n\u001b[1;32m--> 144\u001b[1;33m     \u001b[0moutfle\u001b[0m \u001b[1;33m=\u001b[0m \u001b[0mopen\u001b[0m\u001b[1;33m(\u001b[0m\u001b[0mos\u001b[0m\u001b[1;33m.\u001b[0m\u001b[0mpath\u001b[0m\u001b[1;33m.\u001b[0m\u001b[0mjoin\u001b[0m\u001b[1;33m(\u001b[0m\u001b[0mmypath\u001b[0m\u001b[1;33m,\u001b[0m\u001b[0mfname\u001b[0m\u001b[1;33m)\u001b[0m\u001b[1;33m,\u001b[0m\u001b[1;34m\"w\"\u001b[0m\u001b[1;33m)\u001b[0m\u001b[1;33m\u001b[0m\u001b[0m\n\u001b[0m\u001b[0;32m    145\u001b[0m     \u001b[0moutfle\u001b[0m\u001b[1;33m.\u001b[0m\u001b[0mwrite\u001b[0m\u001b[1;33m(\u001b[0m\u001b[0moutfile\u001b[0m\u001b[1;33m)\u001b[0m\u001b[1;33m\u001b[0m\u001b[0m\n\u001b[0;32m    146\u001b[0m     \u001b[0moutfle\u001b[0m\u001b[1;33m.\u001b[0m\u001b[0mclose\u001b[0m\u001b[1;33m(\u001b[0m\u001b[1;33m)\u001b[0m\u001b[1;33m\u001b[0m\u001b[0m\n",
      "\u001b[1;31mNameError\u001b[0m: name 'os' is not defined"
     ]
    }
   ],
   "source": [
    "#11/27/18 experiment\n",
    "#50ul per well\n",
    "#500nl of inducer=100x\n",
    "maxinducer=500\n",
    "wellvol=50\n",
    "avoidedges=[]#topbottom\n",
    "wellorder=\"down\"#\"across\"\n",
    "shuffle=True\n",
    "fname = \"test.csv\"\n",
    "constructs=[\"spc3\",\"spc6\",\"spc0a1\",\"spc18b1\",\"spc26c6\",\"spc-18e3\"]\n",
    "inducers=[\n",
    "    [\"SAL\",[100,75,50],[\"K7\",4]],\n",
    "    [\"ATC\",[100,75,50,0],[\"K8\",4]],\n",
    "    [\"CIN\",[100,85,75,50,0],[\"K9\",4]],\n",
    "]\n",
    "x=multiD.makeGridWrapper(inducers,constructs,fname,avoidedges,\\\n",
    "        maxinducer,wellvol,shuffle,wellorder=wellorder,mypath=mypath)\n"
   ]
  },
  {
   "cell_type": "code",
   "execution_count": null,
   "metadata": {},
   "outputs": [],
   "source": [
    "   #180514 experiment\n",
    "    atc = [500,250,125,25,0]\n",
    "\n",
    "    iptg = [500,200,25,0]\n",
    "    ara = [500,200,25,0]\n",
    "    cin = [500,200,25,0]\n",
    "    sal = [500]\n",
    "\n",
    "    atc2 = [500,200,0]\n",
    "    iptg2 = [500,0]\n",
    "    ara2 = [500,0]\n",
    "    cin2 = [500,0]\n",
    "    construct = [\"A1\",\"E1\",\"I1\",\"M1\"]\n",
    "    constructnames = [\"pQi41\",\"pQi51\",\"pQi42\",\"pQi52\"]\n",
    "    inducernames = [\"aTC\",\"IPTG\",\"Ara\",\"Cin\",\"Sal\"]\n",
    "    fname = \"inductiongrid.csv\"\n",
    "    inducers = [atc,iptg,ara]\n",
    "    wells = [[\"H1\",\"I1\"],[\"H2\",\"I2\"],[\"H3\",\"I3\"],[\"H4\",\"I4\"],[\"H5\",\"I5\"]]\n",
    "\n",
    "    blist1 = makeGridFile(inducers,wells,construct,fname,constructnames=constructnames,inducernames=inducernames)\n",
    "    construct2 = [\"D8\",\"L8\"]\n",
    "    construct2names = [\"REC24LB\",\"REC24LB\"]\n",
    "    fname = \"supinducers1.csv\"\n",
    "    inducers2 = [atc2,iptg2,ara2,cin2,sal]\n",
    "\n",
    "    #blist = range(80-1)+range(80+17,80+80+17-2)+range(80+80+17+17,80+80+17+17+80-3)\n",
    "    makeGridFile(inducers2,wells,construct2,fname,blist1,constructnames=construct2names,inducernames=inducernames)"
   ]
  },
  {
   "cell_type": "code",
   "execution_count": null,
   "metadata": {},
   "outputs": [],
   "source": [
    "\n",
    "    #180515 experiment\n",
    "\n",
    "    inducernames = [\"ATC\",\"IPTG\",\"Ara\",\"Cin\",\"Sal\"]\n",
    "    atc = [500,250,25,0]\n",
    "    iptg = [500,200,25,0]\n",
    "    ara = [500,200,25,0]\n",
    "    cin = [500,200,25,0]\n",
    "    sal = [500]\n",
    "    construct = [\"A1\"]#,\"I1\"]\n",
    "    fname = \"180515-inducers.csv\"\n",
    "    inducers = [atc,iptg,ara,cin,sal]\n",
    "\n",
    "    constructnames = [\"REC24M9\"]\n",
    "    wells = [[\"H6\",\"I6\",\"J6\"],[\"H7\",\"I7\",\"J7\"],[\"H8\",\"I8\",\"J8\"],[\"H9\",\"I9\",\"J9\"],[\"H10\",\"I10\",\"J10\"]]\n",
    "    makeGridFiles(inducers2,wells,construct2,fname,blist1,constructnames=construct2names,inducernames=inducernames)"
   ]
  },
  {
   "cell_type": "code",
   "execution_count": null,
   "metadata": {},
   "outputs": [],
   "source": [
    "    #180918 experiment\n",
    "    atc = [500,450,300,250,200,125,50,25,0]\n",
    "    ara = [500,450,350,275,200,100,50,25,0]\n",
    "    fname = \"181026_atc_ara.csv\"\n",
    "    #the name of the supplementary file generated\n",
    "    inducernames = [\"ATC\",\"Ara\"]\n",
    "    #above is only for the supplementary file\n",
    "    #below is source wells used for the inducers\n",
    "    #maximum plate has 384wells*500nl = 192 ul\n",
    "    #the echo requires 15 ul minimum, and has 55 ul maximum\n",
    "    #so basically, you get 40 ul per well\n",
    "    #so to fill the entire plate, you need 5 wells\n",
    "    #each set of wells below, must be filled with 55 ul of 100x inducer\n",
    "    wells = [[\"L21\",\"M21\",\"N21\",\"O21\"],\\\n",
    "            #wells for first inducer\n",
    "             [\"H22\",\"I22\",\"J22\",\"K22\"], \\\n",
    "             #wells for second inducer\n",
    "             ]\n",
    "    #the next line indicates where each well block will start for each construct\n",
    "    construct = [\"A1\",\"G1\"]\n",
    "    #the next line determines how many times you are repeating the grid. each\n",
    "    #construct is a repeat of the inducer grid\n",
    "    constructnames = [\"rep1\",\"rep2\"]\n",
    "    inducers = [atc,ara]\n",
    "    blist1 = makeGridFile(inducers,wells,construct,fname,edges,constructnames,inducernames)"
   ]
  },
  {
   "cell_type": "code",
   "execution_count": 36,
   "metadata": {},
   "outputs": [
    {
     "name": "stdout",
     "output_type": "stream",
     "text": [
      "load inducers into: \n",
      "SAL : ['J1', 'K1', 'L1', 'M1']\n",
      "ATC : ['J2', 'K2', 'L2', 'M2']\n",
      "CIN : ['J3', 'K3', 'L3', 'M3']\n",
      "\n",
      "make 220.000000 ul of 100x each inducer\n",
      "\n",
      "constructs start at: \n",
      "spc3 : A1\n",
      "spc6 : I1\n",
      "prepare 10.56 ml of each construct for 50 well volume\n",
      "done!\n"
     ]
    }
   ],
   "source": [
    "#11/19/18 experiment\n",
    "#50ul per well\n",
    "#500nl of inducer=100x\n",
    "maxinducer=500\n",
    "wellvol=50\n",
    "avoidedges=False\n",
    "fname = \"181119-spc3_6.csv\"\n",
    "constructs=[\"spc3\",\"spc6\"]\n",
    "inducers=[\n",
    "    [\"SAL\",[100,50,25,10,5],[\"J1\",4]],\n",
    "    [\"ATC\",[100,75,50,25,10,0],[\"J2\",4]],\n",
    "    [\"CIN\",[100,75,50,25,10,0],[\"J3\",4]],\n",
    "]\n",
    "\n",
    "\n"
   ]
  },
  {
   "cell_type": "code",
   "execution_count": 12,
   "metadata": {},
   "outputs": [
    {
     "name": "stdout",
     "output_type": "stream",
     "text": [
      "load inducers into: \n",
      "SAL : ['K4', 'L4', 'M4', 'N4']\n",
      "ATC : ['K5', 'L5', 'M5', 'N5']\n",
      "CIN : ['K6', 'L6', 'M6', 'N6']\n",
      "\n",
      "make 220.000000 ul of 100x each inducer\n",
      "\n",
      "constructs start at: \n",
      "spc3 : A1\n",
      "spc6 : I1\n",
      "prepare 10.56 ml of each construct for 50 well volume\n",
      "done!\n"
     ]
    }
   ],
   "source": [
    "#11/27/18 experiment\n",
    "#50ul per well\n",
    "#500nl of inducer=100x\n",
    "maxinducer=500\n",
    "wellvol=50\n",
    "avoidedges=False\n",
    "shuffle=True\n",
    "fname = \"181127-spc3_6.csv\"\n",
    "constructs=[\"spc3\",\"spc6\"]\n",
    "inducers=[\n",
    "    [\"SAL\",[100,50,25,10,5],[\"K4\",4]],\n",
    "    [\"ATC\",[100,75,50,25,10,0],[\"K5\",4]],\n",
    "    [\"CIN\",[100,75,50,25,10,0],[\"K6\",4]],\n",
    "]\n",
    "x=makeGridWrapper(inducers,constructs,fname,avoidedges,maxinducer,wellvol,shuffle)\n"
   ]
  }
 ],
 "metadata": {
  "kernelspec": {
   "display_name": "Python 3",
   "language": "python",
   "name": "python3"
  },
  "language_info": {
   "codemirror_mode": {
    "name": "ipython",
    "version": 3
   },
   "file_extension": ".py",
   "mimetype": "text/x-python",
   "name": "python",
   "nbconvert_exporter": "python",
   "pygments_lexer": "ipython3",
   "version": "3.6.3"
  }
 },
 "nbformat": 4,
 "nbformat_minor": 2
}
