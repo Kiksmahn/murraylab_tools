{
 "cells": [
  {
   "cell_type": "code",
   "execution_count": 1,
   "metadata": {},
   "outputs": [],
   "source": [
    "import os\n",
    "import sys\n",
    "mypath = os.path.join(\".\",\"multiD\")\n",
    "#sys.path.append(\"C:\\\\Users\\\\Andrey\\\\Documents\\\\GitHub\\\\murraylab_tools\\\\murraylab_tools\\\\echoMultiDInducer\") \n",
    "import murraylab_tools.echoMultiDInducer as multiD\n",
    "\n",
    "#import echoMultiDInducer as multiD"
   ]
  },
  {
   "cell_type": "code",
   "execution_count": 2,
   "metadata": {},
   "outputs": [
    {
     "name": "stdout",
     "output_type": "stream",
     "text": [
      "load inducers into: \n",
      "SAL : ['K7', 'L7', 'M7', 'N7']\n",
      "ATC : ['K8', 'L8', 'M8', 'N8']\n",
      "CIN : ['K9', 'L9', 'M9', 'N9']\n",
      "\n",
      "make 220.000000 ul of 100x each inducer\n",
      "\n",
      "constructs start at: \n",
      "spc3 : A1\n",
      "spc6 : A5\n",
      "spc0a1 : A9\n",
      "spc18b1 : A13\n",
      "spc26c6 : A17\n",
      "spc-18e3 : A21\n",
      "prepare 3.52 ml of each construct for 50 well volume\n"
     ]
    },
    {
     "data": {
      "image/png": "[encoded data removed]",
      "text/plain": [
       "<matplotlib.figure.Figure at 0x1e62f19e7f0>"
      ]
     },
     "metadata": {},
     "output_type": "display_data"
    },
    {
     "name": "stdout",
     "output_type": "stream",
     "text": [
      "wrote .\\multiD\\test.csv\n",
      "wrote .\\multiD\\supp_test.csv\n"
     ]
    }
   ],
   "source": [
    "#11/27/18 experiment\n",
    "#50ul per well\n",
    "#500nl of inducer=100x\n",
    "maxinducer=500\n",
    "wellvol=50\n",
    "avoidedges=[]#topbottom\n",
    "wellorder=\"down\"#\"across\"\n",
    "shuffle=True\n",
    "fname = \"test.csv\"\n",
    "constructs=[\"spc3\",\"spc6\",\"spc0a1\",\"spc18b1\",\"spc26c6\",\"spc-18e3\"]\n",
    "inducers=[\n",
    "    [\"SAL\",[100,75,50],[\"K7\",4]],\n",
    "    [\"ATC\",[100,75,50,0],[\"K8\",4]],\n",
    "    [\"CIN\",[100,85,75,50,0],[\"K9\",4]],\n",
    "]\n",
    "x=multiD.makeGridWrapper(inducers,constructs,fname,avoidedges,\\\n",
    "        maxinducer,wellvol,shuffle,wellorder=wellorder,mypath=mypath)\n"
   ]
  }
 ],
 "metadata": {
  "kernelspec": {
   "display_name": "Python 3",
   "language": "python",
   "name": "python3"
  },
  "language_info": {
   "codemirror_mode": {
    "name": "ipython",
    "version": 3
   },
   "file_extension": ".py",
   "mimetype": "text/x-python",
   "name": "python",
   "nbconvert_exporter": "python",
   "pygments_lexer": "ipython3",
   "version": "3.6.3"
  }
 },
 "nbformat": 4,
 "nbformat_minor": 2
}
