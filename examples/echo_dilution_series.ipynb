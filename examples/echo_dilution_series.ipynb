{
 "cells": [
  {
   "cell_type": "code",
   "execution_count": 1,
   "metadata": {},
   "outputs": [
    {
     "ename": "ModuleNotFoundError",
     "evalue": "No module named 'murraylab_tools.echo_multid_dilution_series'",
     "output_type": "error",
     "traceback": [
      "\u001b[1;31m---------------------------------------------------------------------------\u001b[0m",
      "\u001b[1;31mModuleNotFoundError\u001b[0m                       Traceback (most recent call last)",
      "\u001b[1;32m<ipython-input-1-cd34f1481d09>\u001b[0m in \u001b[0;36m<module>\u001b[1;34m()\u001b[0m\n\u001b[0;32m      5\u001b[0m \u001b[1;31m#import murraylab_tools.echo_multid_dilution_series as multiD\u001b[0m\u001b[1;33m\u001b[0m\u001b[1;33m\u001b[0m\u001b[0m\n\u001b[0;32m      6\u001b[0m \u001b[1;33m\u001b[0m\u001b[0m\n\u001b[1;32m----> 7\u001b[1;33m \u001b[1;32mimport\u001b[0m \u001b[0mmurraylab_tools\u001b[0m\u001b[1;33m.\u001b[0m\u001b[0mecho_multid_dilution_series\u001b[0m \u001b[1;32mas\u001b[0m \u001b[0mmultiD\u001b[0m\u001b[1;33m\u001b[0m\u001b[0m\n\u001b[0m",
      "\u001b[1;31mModuleNotFoundError\u001b[0m: No module named 'murraylab_tools.echo_multid_dilution_series'"
     ]
    }
   ],
   "source": [
    "import os\n",
    "import sys\n",
    "mypath = os.path.join(\".\",\"multiD\")\n",
    "sys.path.append(\"C:\\\\Users\\\\Andrey\\\\Documents\\\\GitHub\\\\murraylab_tools\\\\murraylab_tools\\\\\")#\"echo_multid_dilution_series\") \n",
    "#import murraylab_tools.echo_multid_dilution_series as multiD\n",
    "\n",
    "import murraylab_tools.echo_multid_dilution_series as multiD"
   ]
  },
  {
   "cell_type": "code",
   "execution_count": 4,
   "metadata": {},
   "outputs": [
    {
     "name": "stdout",
     "output_type": "stream",
     "text": [
      "load inducers into: \n",
      "SAL : ['K7', 'L7', 'M7', 'N7']\n",
      "ATC : ['K8', 'L8', 'M8', 'N8']\n",
      "CIN : ['K9', 'L9', 'M9', 'N9']\n",
      "\n",
      "make 220.000000 ul of 100x each inducer\n",
      "\n",
      "constructs start at: \n",
      "spc3 : B2\n",
      "spc6 : B7\n",
      "spc0a1 : B12\n",
      "spc18b1 : B17\n",
      "prepare 5.28 ml of each construct for 50 well volume\n",
      "{'spc6': 0, 'spc3': 1, 'spc0a1': 2, 'spc18b1': 3}\n"
     ]
    },
    {
     "data": {
      "image/png": "[encoded data removed]",
      "text/plain": [
       "<matplotlib.figure.Figure at 0x14d4b4c4588>"
      ]
     },
     "metadata": {},
     "output_type": "display_data"
    },
    {
     "name": "stdout",
     "output_type": "stream",
     "text": [
      "wrote .\\multiD\\test.csv\n",
      "wrote .\\multiD\\supp_test.csv\n"
     ]
    }
   ],
   "source": [
    "#11/27/18 experiment\n",
    "#50ul per well\n",
    "#500nl of inducer=100x\n",
    "maxinducer=500\n",
    "wellvol=50\n",
    "avoidedges=multiD.edges#topbottom\n",
    "wellorder=\"down\"#\"across\"\n",
    "shuffle=True\n",
    "fname = \"test.csv\"\n",
    "constructs=[\"spc3\",\"spc6\",\"spc0a1\",\"spc18b1\"]#,\"spc26c6\",\"spc-18e3\"]\n",
    "inducers=[\n",
    "    [\"SAL\",[100,75,50],[\"K7\",4]],\n",
    "    [\"ATC\",[100,75,35,0],[\"K8\",4]],\n",
    "    [\"CIN\",[100,85,75,25,0],[\"K9\",4]],\n",
    "]\n",
    "x=multiD.multid_dilution_wrapper(inducers,constructs,fname,avoidedges,\\\n",
    "        maxinducer,wellvol,shuffle,wellorder=wellorder,mypath=mypath)\n"
   ]
  },
  {
   "cell_type": "code",
   "execution_count": null,
   "metadata": {},
   "outputs": [],
   "source": []
  }
 ],
 "metadata": {
  "kernelspec": {
   "display_name": "Python 3",
   "language": "python",
   "name": "python3"
  },
  "language_info": {
   "codemirror_mode": {
    "name": "ipython",
    "version": 3
   },
   "file_extension": ".py",
   "mimetype": "text/x-python",
   "name": "python",
   "nbconvert_exporter": "python",
   "pygments_lexer": "ipython3",
   "version": "3.6.3"
  }
 },
 "nbformat": 4,
 "nbformat_minor": 2
}
