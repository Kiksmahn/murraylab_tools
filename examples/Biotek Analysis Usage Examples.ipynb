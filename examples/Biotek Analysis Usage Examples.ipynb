{
 "cells": [
  {
   "cell_type": "markdown",
   "metadata": {},
   "source": [
    "# Welcome to the Biotek Package"
   ]
  },
  {
   "cell_type": "markdown",
   "metadata": {},
   "source": [
    "The Biotek package of `murraylab_tools` is designed to make your life easier when analyzing Biotek time series data. Specifically, murraylab_tools.Biotek converts Biotek data to tidy format for easy analysis with Pandas and easy plotting with Seaborn. The package also contains a few convenience functions for some of the things you're likely to do with TX-TL time series data, currently including:\n",
    "* Background subtraction\n",
    "* Endpoint summarization."
   ]
  },
  {
   "cell_type": "markdown",
   "metadata": {},
   "source": [
    "### Data Tidying"
   ]
  },
  {
   "cell_type": "markdown",
   "metadata": {},
   "source": [
    "Converting from Biotek output to a tidy, Pandas-readable format is simple:"
   ]
  },
  {
   "cell_type": "code",
   "execution_count": 1,
   "metadata": {
    "collapsed": true
   },
   "outputs": [],
   "source": [
    "import murraylab_tools.biotek as mt_biotek\n",
    "import os\n",
    "\n",
    "# Note that the input file must be from excel output of a Biotek experiment,\n",
    "# saved in CSV format. \n",
    "data_filename = os.path.join(\"biotek_examples\", \"RFP_GFP_traces.csv\")\n",
    "mt_biotek.tidy_biotek_data(data_filename)"
   ]
  },
  {
   "cell_type": "markdown",
   "metadata": {},
   "source": [
    "A tidified version of the data will be created with the same name and location as the original time trace file, with \"_tidy\" appended to the end of the name (pre-suffix).\n",
    "\n",
    "Usually you will also want access to some meta-data on your experiment -- most importantly, what plasmids were put in each well, in what concentration. You can add this metadata in the form of a supplementary spreadsheet. The first column of the supplementary spreadsheet is assumed to contain a well number (e.g., \"D4\" or \"A08\"). Every other column contains some kind of metadata keyed to that well number, with a name of that metadata given in a header row. You can write that supplementary data file yourself in Excel or notepad. \n",
    "\n",
    "Here is an example of how to write a supplementary file programmatically. This experiment contains three replicated 2D titrations of a GFP plasmid on one axis (at concentrations of 0.25, 0.5, 1, and 2 nM) and an RFP plasmid on the other axis (at concentrations of 0.5, 1, 2, and 4 nM)."
   ]
  },
  {
   "cell_type": "code",
   "execution_count": 2,
   "metadata": {
    "collapsed": false
   },
   "outputs": [],
   "source": [
    "import csv, string\n",
    "\n",
    "rfp_concs = [0.44, 0.88, 2.20, 3.97]\n",
    "gfp_concs = [0.24, 0.49, 0.98, 2.01]\n",
    "replicates = [1,2,3]\n",
    "\n",
    "supplementary_filename = os.path.join(\"biotek_examples\", \"RFP_GFP_supplementary.csv\")\n",
    "with open(supplementary_filename, 'w') as outfile:\n",
    "    writer = csv.writer(outfile)\n",
    "    writer.writerow(['Well', 'RFP Plasmid (nM)', 'GFP Plasmid (nM)', 'Replicate'])\n",
    "    for row in range(4):\n",
    "        for col in range(4):\n",
    "            well_names = [string.ascii_uppercase[row] + \"%d\" % (col+6),\n",
    "                          string.ascii_uppercase[row] + \"%d\" % (col+11),\n",
    "                          string.ascii_uppercase[row+6] + \"%d\" % (col+1)]\n",
    "            for rep in replicates:\n",
    "                writer.writerow([well_names[rep-1], rfp_concs[row], gfp_concs[col], \n",
    "                                  rep])\n",
    "    # Also include metadata for three negative control wells.\n",
    "    writer.writerow([\"E10\", 0, 0, 1])\n",
    "    writer.writerow([\"E15\", 0, 0, 2])\n",
    "    writer.writerow([\"K5\", 0, 0, 3])\n",
    "                "
   ]
  },
  {
   "cell_type": "markdown",
   "metadata": {},
   "source": [
    "and to use that supplementary data:"
   ]
  },
  {
   "cell_type": "code",
   "execution_count": 3,
   "metadata": {
    "collapsed": true
   },
   "outputs": [],
   "source": [
    "mt_biotek.tidy_biotek_data(data_filename, supplementary_filename)"
   ]
  },
  {
   "cell_type": "markdown",
   "metadata": {},
   "source": [
    "Now we can easily read our Biotek data using Pandas:"
   ]
  },
  {
   "cell_type": "code",
   "execution_count": 4,
   "metadata": {
    "collapsed": false
   },
   "outputs": [],
   "source": [
    "import pandas as pd\n",
    "\n",
    "tidy_filename = os.path.join(\"biotek_examples\", \"RFP_GFP_traces_tidy.csv\")\n",
    "df = pd.read_csv(tidy_filename)"
   ]
  },
  {
   "cell_type": "markdown",
   "metadata": {},
   "source": [
    "Let's peek at the data in its tidy format:"
   ]
  },
  {
   "cell_type": "code",
   "execution_count": 5,
   "metadata": {
    "collapsed": false
   },
   "outputs": [
    {
     "data": {
      "text/html": [
       "<div>\n",
       "<table border=\"1\" class=\"dataframe\">\n",
       "  <thead>\n",
       "    <tr style=\"text-align: right;\">\n",
       "      <th></th>\n",
       "      <th>Channel</th>\n",
       "      <th>Gain</th>\n",
       "      <th>Time (sec)</th>\n",
       "      <th>Well</th>\n",
       "      <th>AFU</th>\n",
       "      <th>uM</th>\n",
       "      <th>Excitation</th>\n",
       "      <th>Emission</th>\n",
       "      <th>Replicate</th>\n",
       "      <th>GFP Plasmid (nM)</th>\n",
       "      <th>RFP Plasmid (nM)</th>\n",
       "    </tr>\n",
       "  </thead>\n",
       "  <tbody>\n",
       "    <tr>\n",
       "      <th>RFP</th>\n",
       "      <td>100</td>\n",
       "      <td>0</td>\n",
       "      <td>0.0</td>\n",
       "      <td>A6</td>\n",
       "      <td>16</td>\n",
       "      <td>0.009473</td>\n",
       "      <td>580</td>\n",
       "      <td>610</td>\n",
       "      <td>1</td>\n",
       "      <td>0.24</td>\n",
       "      <td>0.44</td>\n",
       "    </tr>\n",
       "    <tr>\n",
       "      <th>RFP</th>\n",
       "      <td>100</td>\n",
       "      <td>0</td>\n",
       "      <td>0.0</td>\n",
       "      <td>A7</td>\n",
       "      <td>13</td>\n",
       "      <td>0.007697</td>\n",
       "      <td>580</td>\n",
       "      <td>610</td>\n",
       "      <td>1</td>\n",
       "      <td>0.49</td>\n",
       "      <td>0.44</td>\n",
       "    </tr>\n",
       "    <tr>\n",
       "      <th>RFP</th>\n",
       "      <td>100</td>\n",
       "      <td>0</td>\n",
       "      <td>0.0</td>\n",
       "      <td>A8</td>\n",
       "      <td>7</td>\n",
       "      <td>0.004144</td>\n",
       "      <td>580</td>\n",
       "      <td>610</td>\n",
       "      <td>1</td>\n",
       "      <td>0.98</td>\n",
       "      <td>0.44</td>\n",
       "    </tr>\n",
       "    <tr>\n",
       "      <th>RFP</th>\n",
       "      <td>100</td>\n",
       "      <td>0</td>\n",
       "      <td>0.0</td>\n",
       "      <td>A9</td>\n",
       "      <td>12</td>\n",
       "      <td>0.007105</td>\n",
       "      <td>580</td>\n",
       "      <td>610</td>\n",
       "      <td>1</td>\n",
       "      <td>2.01</td>\n",
       "      <td>0.44</td>\n",
       "    </tr>\n",
       "    <tr>\n",
       "      <th>RFP</th>\n",
       "      <td>100</td>\n",
       "      <td>0</td>\n",
       "      <td>0.0</td>\n",
       "      <td>A11</td>\n",
       "      <td>10</td>\n",
       "      <td>0.005921</td>\n",
       "      <td>580</td>\n",
       "      <td>610</td>\n",
       "      <td>2</td>\n",
       "      <td>0.24</td>\n",
       "      <td>0.44</td>\n",
       "    </tr>\n",
       "  </tbody>\n",
       "</table>\n",
       "</div>"
      ],
      "text/plain": [
       "     Channel  Gain  Time (sec) Well  AFU        uM  Excitation  Emission  \\\n",
       "RFP      100     0         0.0   A6   16  0.009473         580       610   \n",
       "RFP      100     0         0.0   A7   13  0.007697         580       610   \n",
       "RFP      100     0         0.0   A8    7  0.004144         580       610   \n",
       "RFP      100     0         0.0   A9   12  0.007105         580       610   \n",
       "RFP      100     0         0.0  A11   10  0.005921         580       610   \n",
       "\n",
       "     Replicate  GFP Plasmid (nM)  RFP Plasmid (nM)  \n",
       "RFP          1              0.24              0.44  \n",
       "RFP          1              0.49              0.44  \n",
       "RFP          1              0.98              0.44  \n",
       "RFP          1              2.01              0.44  \n",
       "RFP          2              0.24              0.44  "
      ]
     },
     "execution_count": 5,
     "metadata": {},
     "output_type": "execute_result"
    }
   ],
   "source": [
    "df.head()"
   ]
  },
  {
   "cell_type": "markdown",
   "metadata": {},
   "source": [
    "As you can see, each row of tidy data describes one well's read value for a single channel and gain at a single time, along with some metadata about that well.\n",
    "\n",
    "Now we can use Seaborn to start plotting data quickly and (relatively) easily:"
   ]
  },
  {
   "cell_type": "code",
   "execution_count": null,
   "metadata": {
    "collapsed": true
   },
   "outputs": [],
   "source": []
  },
  {
   "cell_type": "markdown",
   "metadata": {},
   "source": [
    "### Automatic Unit Conversion"
   ]
  },
  {
   "cell_type": "markdown",
   "metadata": {},
   "source": [
    "Note in the example above "
   ]
  },
  {
   "cell_type": "markdown",
   "metadata": {},
   "source": [
    "# Convenience Functions"
   ]
  },
  {
   "cell_type": "markdown",
   "metadata": {},
   "source": [
    "### Background Subtraction"
   ]
  },
  {
   "cell_type": "markdown",
   "metadata": {},
   "source": [
    "### Endpoint Averaging"
   ]
  },
  {
   "cell_type": "markdown",
   "metadata": {},
   "source": [
    "### Manual Unit Conversion"
   ]
  },
  {
   "cell_type": "code",
   "execution_count": null,
   "metadata": {
    "collapsed": true
   },
   "outputs": [],
   "source": []
  }
 ],
 "metadata": {
  "kernelspec": {
   "display_name": "Python 2",
   "language": "python",
   "name": "python2"
  },
  "language_info": {
   "codemirror_mode": {
    "name": "ipython",
    "version": 2
   },
   "file_extension": ".py",
   "mimetype": "text/x-python",
   "name": "python",
   "nbconvert_exporter": "python",
   "pygments_lexer": "ipython2",
   "version": "2.7.12"
  }
 },
 "nbformat": 4,
 "nbformat_minor": 1
}
