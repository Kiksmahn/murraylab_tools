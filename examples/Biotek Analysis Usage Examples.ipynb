{
 "cells": [
  {
   "cell_type": "markdown",
   "metadata": {},
   "source": [
    "# Welcome to the Biotek Package"
   ]
  },
  {
   "cell_type": "markdown",
   "metadata": {},
   "source": [
    "The Biotek package of `murraylab_tools` is designed to make your life easier when analyzing Biotek time series data. Specifically, murraylab_tools.Biotek converts Biotek data to tidy format for easy analysis with Pandas and easy plotting with Seaborn. The package also contains a few convenience functions for some of the things you're likely to do with TX-TL time series data, currently including:\n",
    "* Background subtraction.\n",
    "* Endpoint summarization.\n",
    "* Measurement average over any contiguous window.\n",
    "* Spline fitting to measurement curves.\n",
    "* Smoothed derivative calculation.\n",
    "* OD normalization (or any other time-varying normalization)"
   ]
  },
  {
   "cell_type": "markdown",
   "metadata": {},
   "source": [
    "### Data Tidying"
   ]
  },
  {
   "cell_type": "markdown",
   "metadata": {},
   "source": [
    "Converting from Biotek output to a tidy, Pandas-readable format is simple:"
   ]
  },
  {
   "cell_type": "code",
   "execution_count": 1,
   "metadata": {
    "collapsed": false
   },
   "outputs": [],
   "source": [
    "import murraylab_tools.biotek as mt_biotek\n",
    "import os\n",
    "\n",
    "# Note that the input file must be from excel output of a Biotek experiment,\n",
    "# saved in CSV format. \n",
    "data_filename = os.path.join(\"biotek_examples\", \"RFP_GFP_traces.csv\")\n",
    "mt_biotek.tidy_biotek_data(data_filename, volume = 5)"
   ]
  },
  {
   "cell_type": "markdown",
   "metadata": {},
   "source": [
    "A tidified version of the data will be created with the same name and location as the original time trace file, with \"_tidy\" appended to the end of the name (pre-suffix).\n",
    "\n",
    "Usually you will also want access to some meta-data on your experiment -- most importantly, what plasmids were put in each well, in what concentration. You can add this metadata in the form of a supplementary spreadsheet. The first column of the supplementary spreadsheet is assumed to contain a well number (e.g., \"D4\" or \"A08\"). Every other column contains some kind of metadata keyed to that well number, with a name of that metadata given in a header row. You can write that supplementary data file yourself in Excel or notepad. \n",
    "\n",
    "Here is an example of how to write a supplementary file programmatically. This experiment contains three replicated 2D titrations of a GFP plasmid on one axis (at concentrations of 0.25, 0.5, 1, and 2 nM) and an RFP plasmid on the other axis (at concentrations of 0.5, 1, 2, and 4 nM)."
   ]
  },
  {
   "cell_type": "code",
   "execution_count": 2,
   "metadata": {
    "collapsed": false
   },
   "outputs": [],
   "source": [
    "import csv, string\n",
    "\n",
    "rfp_concs = [0.44, 0.88, 2.20, 3.97]\n",
    "gfp_concs = [0.24, 0.49, 0.98, 2.01]\n",
    "replicates = [1,2,3]\n",
    "\n",
    "supplementary_filename = os.path.join(\"biotek_examples\", \"RFP_GFP_supplementary.csv\")\n",
    "with open(supplementary_filename, 'w') as outfile:\n",
    "    writer = csv.writer(outfile)\n",
    "    writer.writerow(['Well', 'RFP Plasmid (nM)', 'GFP Plasmid (nM)', 'Replicate'])\n",
    "    for row in range(4):\n",
    "        for col in range(4):\n",
    "            well_names = [string.ascii_uppercase[row] + \"%d\" % (col+6),\n",
    "                          string.ascii_uppercase[row] + \"%d\" % (col+11),\n",
    "                          string.ascii_uppercase[row+6] + \"%d\" % (col+1)]\n",
    "            for rep in replicates:\n",
    "                writer.writerow([well_names[rep-1], rfp_concs[row], gfp_concs[col], \n",
    "                                  rep])\n",
    "    # Also include metadata for three negative control wells.\n",
    "    writer.writerow([\"E10\", 0, 0, 1])\n",
    "    writer.writerow([\"E15\", 0, 0, 2])\n",
    "    writer.writerow([\"K5\", 0, 0, 3])\n",
    "                "
   ]
  },
  {
   "cell_type": "markdown",
   "metadata": {},
   "source": [
    "and to use that supplementary data:"
   ]
  },
  {
   "cell_type": "code",
   "execution_count": 3,
   "metadata": {
    "collapsed": false
   },
   "outputs": [],
   "source": [
    "mt_biotek.tidy_biotek_data(data_filename, supplementary_filename, volume = 5)"
   ]
  },
  {
   "cell_type": "markdown",
   "metadata": {},
   "source": [
    "Now we can easily read our Biotek data using Pandas:"
   ]
  },
  {
   "cell_type": "code",
   "execution_count": 4,
   "metadata": {
    "collapsed": false
   },
   "outputs": [],
   "source": [
    "import pandas as pd\n",
    "\n",
    "tidy_filename = os.path.join(\"biotek_examples\", \"RFP_GFP_traces_tidy.csv\")\n",
    "df = pd.read_csv(tidy_filename)"
   ]
  },
  {
   "cell_type": "markdown",
   "metadata": {},
   "source": [
    "Let's peek at the data in its tidy format:"
   ]
  },
  {
   "cell_type": "code",
   "execution_count": 5,
   "metadata": {
    "collapsed": false
   },
   "outputs": [
    {
     "data": {
      "text/html": [
       "<div>\n",
       "<table border=\"1\" class=\"dataframe\">\n",
       "  <thead>\n",
       "    <tr style=\"text-align: right;\">\n",
       "      <th></th>\n",
       "      <th>Channel</th>\n",
       "      <th>Gain</th>\n",
       "      <th>Time (sec)</th>\n",
       "      <th>Time (hr)</th>\n",
       "      <th>Well</th>\n",
       "      <th>AFU</th>\n",
       "      <th>uM</th>\n",
       "      <th>Excitation</th>\n",
       "      <th>Emission</th>\n",
       "      <th>RFP Plasmid (nM)</th>\n",
       "      <th>GFP Plasmid (nM)</th>\n",
       "      <th>Replicate</th>\n",
       "    </tr>\n",
       "  </thead>\n",
       "  <tbody>\n",
       "    <tr>\n",
       "      <th>0</th>\n",
       "      <td>RFP</td>\n",
       "      <td>100</td>\n",
       "      <td>0</td>\n",
       "      <td>0.0</td>\n",
       "      <td>A6</td>\n",
       "      <td>16</td>\n",
       "      <td>0.018946</td>\n",
       "      <td>580</td>\n",
       "      <td>580</td>\n",
       "      <td>0.44</td>\n",
       "      <td>0.24</td>\n",
       "      <td>1</td>\n",
       "    </tr>\n",
       "    <tr>\n",
       "      <th>1</th>\n",
       "      <td>RFP</td>\n",
       "      <td>100</td>\n",
       "      <td>0</td>\n",
       "      <td>0.0</td>\n",
       "      <td>A7</td>\n",
       "      <td>13</td>\n",
       "      <td>0.015394</td>\n",
       "      <td>580</td>\n",
       "      <td>580</td>\n",
       "      <td>0.44</td>\n",
       "      <td>0.49</td>\n",
       "      <td>1</td>\n",
       "    </tr>\n",
       "    <tr>\n",
       "      <th>2</th>\n",
       "      <td>RFP</td>\n",
       "      <td>100</td>\n",
       "      <td>0</td>\n",
       "      <td>0.0</td>\n",
       "      <td>A8</td>\n",
       "      <td>7</td>\n",
       "      <td>0.008289</td>\n",
       "      <td>580</td>\n",
       "      <td>580</td>\n",
       "      <td>0.44</td>\n",
       "      <td>0.98</td>\n",
       "      <td>1</td>\n",
       "    </tr>\n",
       "    <tr>\n",
       "      <th>3</th>\n",
       "      <td>RFP</td>\n",
       "      <td>100</td>\n",
       "      <td>0</td>\n",
       "      <td>0.0</td>\n",
       "      <td>A9</td>\n",
       "      <td>12</td>\n",
       "      <td>0.014210</td>\n",
       "      <td>580</td>\n",
       "      <td>580</td>\n",
       "      <td>0.44</td>\n",
       "      <td>2.01</td>\n",
       "      <td>1</td>\n",
       "    </tr>\n",
       "    <tr>\n",
       "      <th>4</th>\n",
       "      <td>RFP</td>\n",
       "      <td>100</td>\n",
       "      <td>0</td>\n",
       "      <td>0.0</td>\n",
       "      <td>A11</td>\n",
       "      <td>10</td>\n",
       "      <td>0.011841</td>\n",
       "      <td>580</td>\n",
       "      <td>580</td>\n",
       "      <td>0.44</td>\n",
       "      <td>0.24</td>\n",
       "      <td>2</td>\n",
       "    </tr>\n",
       "  </tbody>\n",
       "</table>\n",
       "</div>"
      ],
      "text/plain": [
       "  Channel  Gain  Time (sec)  Time (hr) Well  AFU        uM  Excitation  \\\n",
       "0     RFP   100           0        0.0   A6   16  0.018946         580   \n",
       "1     RFP   100           0        0.0   A7   13  0.015394         580   \n",
       "2     RFP   100           0        0.0   A8    7  0.008289         580   \n",
       "3     RFP   100           0        0.0   A9   12  0.014210         580   \n",
       "4     RFP   100           0        0.0  A11   10  0.011841         580   \n",
       "\n",
       "   Emission  RFP Plasmid (nM)  GFP Plasmid (nM)  Replicate  \n",
       "0       580              0.44              0.24          1  \n",
       "1       580              0.44              0.49          1  \n",
       "2       580              0.44              0.98          1  \n",
       "3       580              0.44              2.01          1  \n",
       "4       580              0.44              0.24          2  "
      ]
     },
     "execution_count": 5,
     "metadata": {},
     "output_type": "execute_result"
    }
   ],
   "source": [
    "df.head()"
   ]
  },
  {
   "cell_type": "markdown",
   "metadata": {},
   "source": [
    "As you can see, each row of tidy data describes one well's read value for a single channel and gain at a single time, along with some metadata about that well. \n",
    "\n",
    "Note that if you use data with OD600 measurements, you will get separate rows with those OD600 readings with channel \"OD600\", excitation 600, emission -1, gain -1, and the actual OD in the *uM* column. It's a bit of a dirty hack, but it works, as long as you know what to look for. For example:"
   ]
  },
  {
   "cell_type": "code",
   "execution_count": 6,
   "metadata": {
    "collapsed": false
   },
   "outputs": [
    {
     "ename": "ValueError",
     "evalue": "invalid literal for int() with base 10: '600:600'",
     "output_type": "error",
     "traceback": [
      "\u001b[0;31m---------------------------------------------------------------------------\u001b[0m",
      "\u001b[0;31mValueError\u001b[0m                                Traceback (most recent call last)",
      "\u001b[0;32m<ipython-input-6-5836a0b1e5b6>\u001b[0m in \u001b[0;36m<module>\u001b[0;34m()\u001b[0m\n\u001b[1;32m     10\u001b[0m             \u001b[0mwell\u001b[0m    \u001b[0;34m=\u001b[0m \u001b[0mrow_str\u001b[0m \u001b[0;34m+\u001b[0m \u001b[0mcol_str\u001b[0m\u001b[0;34m\u001b[0m\u001b[0m\n\u001b[1;32m     11\u001b[0m             \u001b[0mwriter\u001b[0m\u001b[0;34m.\u001b[0m\u001b[0mwriterow\u001b[0m\u001b[0;34m(\u001b[0m\u001b[0;34m[\u001b[0m\u001b[0mwell\u001b[0m\u001b[0;34m,\u001b[0m \u001b[0mrow_str\u001b[0m\u001b[0;34m,\u001b[0m \u001b[0mcol_str\u001b[0m\u001b[0;34m]\u001b[0m\u001b[0;34m)\u001b[0m\u001b[0;34m\u001b[0m\u001b[0m\n\u001b[0;32m---> 12\u001b[0;31m \u001b[0mmt_biotek\u001b[0m\u001b[0;34m.\u001b[0m\u001b[0mtidy_biotek_data\u001b[0m\u001b[0;34m(\u001b[0m\u001b[0mdata_filename\u001b[0m\u001b[0;34m,\u001b[0m \u001b[0msupplementary_filename\u001b[0m\u001b[0;34m,\u001b[0m \u001b[0mvolume\u001b[0m \u001b[0;34m=\u001b[0m \u001b[0;36m500\u001b[0m\u001b[0;34m)\u001b[0m\u001b[0;34m\u001b[0m\u001b[0m\n\u001b[0m\u001b[1;32m     13\u001b[0m \u001b[0mtidy_filename\u001b[0m \u001b[0;34m=\u001b[0m \u001b[0mos\u001b[0m\u001b[0;34m.\u001b[0m\u001b[0mpath\u001b[0m\u001b[0;34m.\u001b[0m\u001b[0mjoin\u001b[0m\u001b[0;34m(\u001b[0m\u001b[0;34m\"biotek_examples\"\u001b[0m\u001b[0;34m,\u001b[0m \u001b[0;34m\"cell_data_traces_tidy.csv\"\u001b[0m\u001b[0;34m)\u001b[0m\u001b[0;34m\u001b[0m\u001b[0m\n\u001b[1;32m     14\u001b[0m \u001b[0mcell_df\u001b[0m \u001b[0;34m=\u001b[0m \u001b[0mpd\u001b[0m\u001b[0;34m.\u001b[0m\u001b[0mread_csv\u001b[0m\u001b[0;34m(\u001b[0m\u001b[0mtidy_filename\u001b[0m\u001b[0;34m)\u001b[0m\u001b[0;34m\u001b[0m\u001b[0m\n",
      "\u001b[0;32m/Users/sclamons/anaconda/lib/python3.6/site-packages/murraylab_tools/biotek/biotek.py\u001b[0m in \u001b[0;36mtidy_biotek_data\u001b[0;34m(input_filename, supplementary_filename, volume, normalization_channel)\u001b[0m\n\u001b[1;32m    209\u001b[0m                 \u001b[0;32mif\u001b[0m \u001b[0mreading_OD\u001b[0m\u001b[0;34m:\u001b[0m\u001b[0;34m\u001b[0m\u001b[0m\n\u001b[1;32m    210\u001b[0m                     \u001b[0mread_name\u001b[0m \u001b[0;34m=\u001b[0m \u001b[0minfo\u001b[0m\u001b[0;34m.\u001b[0m\u001b[0mstrip\u001b[0m\u001b[0;34m(\u001b[0m\u001b[0;34m)\u001b[0m\u001b[0;34m\u001b[0m\u001b[0m\n\u001b[0;32m--> 211\u001b[0;31m                     \u001b[0mexcitation\u001b[0m \u001b[0;34m=\u001b[0m \u001b[0mint\u001b[0m\u001b[0;34m(\u001b[0m\u001b[0minfo\u001b[0m\u001b[0;34m.\u001b[0m\u001b[0mstrip\u001b[0m\u001b[0;34m(\u001b[0m\u001b[0;34m)\u001b[0m\u001b[0;34m[\u001b[0m\u001b[0;36m2\u001b[0m\u001b[0;34m:\u001b[0m\u001b[0;34m]\u001b[0m\u001b[0;34m)\u001b[0m\u001b[0;34m\u001b[0m\u001b[0m\n\u001b[0m\u001b[1;32m    212\u001b[0m                     \u001b[0memission\u001b[0m   \u001b[0;34m=\u001b[0m \u001b[0;34m-\u001b[0m\u001b[0;36m1\u001b[0m\u001b[0;34m\u001b[0m\u001b[0m\n\u001b[1;32m    213\u001b[0m                     \u001b[0mgain\u001b[0m       \u001b[0;34m=\u001b[0m \u001b[0;34m-\u001b[0m\u001b[0;36m1\u001b[0m\u001b[0;34m\u001b[0m\u001b[0m\n",
      "\u001b[0;31mValueError\u001b[0m: invalid literal for int() with base 10: '600:600'"
     ]
    }
   ],
   "source": [
    "data_filename = os.path.join(\"biotek_examples\", \"cell_data_traces.csv\")\n",
    "supplementary_filename = os.path.join(\"biotek_examples\", \"cell_data_supplemental.csv\")\n",
    "with open(supplementary_filename, 'w') as outfile:\n",
    "    writer = csv.writer(outfile)\n",
    "    writer.writerow(['Well', 'Row', 'Column'])\n",
    "    for row in range(8):\n",
    "        for col in range(12):\n",
    "            row_str = string.ascii_uppercase[row]\n",
    "            col_str = str(col+1)\n",
    "            well    = row_str + col_str\n",
    "            writer.writerow([well, row_str, col_str])\n",
    "mt_biotek.tidy_biotek_data(data_filename, supplementary_filename, volume = 500)\n",
    "tidy_filename = os.path.join(\"biotek_examples\", \"cell_data_traces_tidy.csv\")\n",
    "cell_df = pd.read_csv(tidy_filename)"
   ]
  },
  {
   "cell_type": "markdown",
   "metadata": {},
   "source": [
    "Now we can use Seaborn to start plotting data quickly and (relatively) easily. In this case, let's look at time traces of all three replicates of each combination of plasmids, first for GFP and then for RFP:"
   ]
  },
  {
   "cell_type": "code",
   "execution_count": null,
   "metadata": {
    "collapsed": false
   },
   "outputs": [],
   "source": [
    "import seaborn as sns\n",
    "import matplotlib.pyplot as plt\n",
    "rc={'lines.linewidth': 2, 'axes.labelsize': 14, 'axes.titlesize': 14}\n",
    "sns.set(rc=rc)\n",
    "%matplotlib inline\n",
    "\n",
    "gfp_df = df[(df.Gain == 100) & (df.Channel == \"GFP\")]\n",
    "rfp_df = df[(df.Gain == 100) & (df.Channel == \"RFP\")]\n",
    "grid = sns.FacetGrid(gfp_df, col = \"GFP Plasmid (nM)\", row = \"RFP Plasmid (nM)\", \n",
    "                     hue = \"Replicate\", margin_titles = True)\n",
    "grid.map(plt.plot, \"Time (hr)\", \"uM\")\n",
    "grid.fig.tight_layout(w_pad=1)\n",
    "plt.show()\n",
    "\n",
    "plt.clf()\n",
    "grid = sns.FacetGrid(rfp_df, col = \"GFP Plasmid (nM)\", row = \"RFP Plasmid (nM)\", \n",
    "                     hue = \"Replicate\", margin_titles = True)\n",
    "grid.map(plt.plot, \"Time (hr)\", \"uM\")\n",
    "grid.fig.tight_layout(w_pad=1)\n",
    "plt.show()"
   ]
  },
  {
   "cell_type": "markdown",
   "metadata": {},
   "source": [
    "### Automatic Unit Conversion"
   ]
  },
  {
   "cell_type": "markdown",
   "metadata": {},
   "source": [
    "Note in the example above that the absolute concentrations of fluorescent proteins were automatically calculated in µM. The murraylab_tools.biotek package has a small database of known calibrations for our lab's Biotek's. It currently knows how to calibrate with GFP, Citrine, RFP, CFP, Venus, and Cherry, each at gains 61 and 100. The plate ID is pulled from the Biotek's output file. Fluorescent protein identities are pulled from channel names. If the name of a channel is sufficiently similar to one of the known fluorescent proteins, you will get automatic unit conversion. Here \"sufficiently similar\" means \"contains as a substring\". If you use a channel name with more than one known fluorescent protein name in it, you're not guaranteed any particular result, so don't do that.  \n",
    "\n",
    "If you're feeling particularly meddlesome (or you want to add new calibration data to the package -- if so, please commit your changes to the repository!), you can see the calibration data near the top of the biotek.py file in the biotek subpackage of murraylab_tools. Calibration data is stored as a doubly-nested dictionary of the form\n",
    "\n",
    "`calibration_data[channel][biotek_id][gain] = AFU/µM`.\n",
    "\n",
    "If you don't use a channel containing the name of a calibrated substance, or you use a gain that hasn't been calibrated, then the µM concentration will be calculated as -1. "
   ]
  },
  {
   "cell_type": "markdown",
   "metadata": {},
   "source": [
    "# Convenience Functions"
   ]
  },
  {
   "cell_type": "markdown",
   "metadata": {},
   "source": [
    "### Background Subtraction"
   ]
  },
  {
   "cell_type": "markdown",
   "metadata": {},
   "source": [
    "Given a list of negative control wells, you can use the murraylab_tools.biotek package to subtract average background from your time series data:"
   ]
  },
  {
   "cell_type": "code",
   "execution_count": null,
   "metadata": {
    "collapsed": false,
    "scrolled": false
   },
   "outputs": [],
   "source": [
    "negative_control_wells = [\"E10\", \"E15\", \"K5\"]\n",
    "corrected_df = mt_biotek.background_subtract(df, negative_control_wells)\n",
    "corrected_df.head()"
   ]
  },
  {
   "cell_type": "markdown",
   "metadata": {},
   "source": [
    "`background_subtract` returns a dataframe of corrected data, which can be analyzed just like the dataframes returned in the example above. "
   ]
  },
  {
   "cell_type": "markdown",
   "metadata": {},
   "source": [
    "### Endpoint Averaging"
   ]
  },
  {
   "cell_type": "markdown",
   "metadata": {},
   "source": [
    "If you know your fluorescence data plateaus near the end of the run, you may want to quickly find the endpoint fluorescence of each well, averaged over the last few time points. You can quickly do this with the `endpoint_averages` function of the murraylab_tools.biotek package."
   ]
  },
  {
   "cell_type": "code",
   "execution_count": null,
   "metadata": {
    "collapsed": false
   },
   "outputs": [],
   "source": [
    "endpoint_df = mt_biotek.endpoint_averages(corrected_df)\n",
    "endpoint_df.head()"
   ]
  },
  {
   "cell_type": "markdown",
   "metadata": {},
   "source": [
    "Note that every numeric field has been averaged over the last five data points, so don't take the time column too seriously here. \n",
    "\n",
    "Now we can quickly plot endpoint averages for the two color channels:"
   ]
  },
  {
   "cell_type": "code",
   "execution_count": null,
   "metadata": {
    "collapsed": false
   },
   "outputs": [],
   "source": [
    "green_endpoints = endpoint_df[(endpoint_df.Channel == \"GFP\") & (endpoint_df.Gain == 61)]\n",
    "sns.lmplot(data = green_endpoints, x = 'GFP Plasmid (nM)', \n",
    "              y = 'uM', hue = 'RFP Plasmid (nM)', fit_reg = False,\n",
    "              x_jitter = 0.05)"
   ]
  },
  {
   "cell_type": "code",
   "execution_count": null,
   "metadata": {
    "collapsed": false,
    "scrolled": false
   },
   "outputs": [],
   "source": [
    "red_endpoints = endpoint_df[(endpoint_df.Channel == \"RFP\") & (endpoint_df.Gain == 100)]\n",
    "sns.lmplot(data = red_endpoints, x = 'RFP Plasmid (nM)', \n",
    "              y = 'uM', hue = 'GFP Plasmid (nM)', fit_reg = False,\n",
    "              x_jitter = 0.05)"
   ]
  },
  {
   "cell_type": "markdown",
   "metadata": {},
   "source": [
    "### Averaging in other windows"
   ]
  },
  {
   "cell_type": "markdown",
   "metadata": {},
   "source": [
    "You can also take time averages in other windows using the `window_averages` function. This works much like `endpoint_averages`, except that instead of averaging over a slice at the end of the experiment, it will average over a window whose start and end you specify. You can specify start and end times using seconds, hours, or a timepoint index. "
   ]
  },
  {
   "cell_type": "code",
   "execution_count": null,
   "metadata": {
    "collapsed": false
   },
   "outputs": [],
   "source": [
    "# Averaging over a window near the start of the experiment, \n",
    "# indexed by hours\n",
    "endpoint_df = mt_biotek.window_averages(corrected_df, 2, 4, \"hours\")\n",
    "endpoint_df.head()"
   ]
  },
  {
   "cell_type": "code",
   "execution_count": null,
   "metadata": {
    "collapsed": false,
    "scrolled": true
   },
   "outputs": [],
   "source": [
    "# indexed by seconds\n",
    "endpoint_df = mt_biotek.window_averages(corrected_df, 7200, 14400, \n",
    "                                        \"seconds\")\n",
    "endpoint_df.head()"
   ]
  },
  {
   "cell_type": "code",
   "execution_count": null,
   "metadata": {
    "collapsed": false,
    "scrolled": true
   },
   "outputs": [],
   "source": [
    "# indexed by index\n",
    "endpoint_df = mt_biotek.window_averages(corrected_df, 33, 53, \"index\")\n",
    "endpoint_df.head()"
   ]
  },
  {
   "cell_type": "markdown",
   "metadata": {},
   "source": [
    "### Spline Fit"
   ]
  },
  {
   "cell_type": "markdown",
   "metadata": {},
   "source": [
    "If you want to work with a denoised version of your data, you can fit a 3rd order spline to that data using the `spline_fit` function. `spline_fit` returns a dataframe identical to the original, except that it contains an extra column \"uM spline fit\", which contains the fit."
   ]
  },
  {
   "cell_type": "code",
   "execution_count": null,
   "metadata": {
    "collapsed": false
   },
   "outputs": [],
   "source": [
    "fit_df = mt_biotek.spline_fit(df)\n",
    "fit_df.head()"
   ]
  },
  {
   "cell_type": "code",
   "execution_count": null,
   "metadata": {
    "collapsed": false,
    "scrolled": false
   },
   "outputs": [],
   "source": [
    "example_fit_df = fit_df[(fit_df.Gain == 100) & (fit_df.Channel == \"RFP\") \\\n",
    "                        & (fit_df[\"GFP Plasmid (nM)\"] == 2.01) & (fit_df[\"RFP Plasmid (nM)\"] == 3.97)\\\n",
    "                        & (fit_df.Replicate == 1)]\n",
    "plt.plot(example_fit_df[\"Time (hr)\"], example_fit_df[\"uM\"], color = \"blue\", label = \"Raw Data\")\n",
    "plt.plot(example_fit_df[\"Time (hr)\"], example_fit_df[\"uM spline fit\"], color = \"red\", label=\"Spline Fit\")\n",
    "plt.legend(loc = 2)"
   ]
  },
  {
   "cell_type": "markdown",
   "metadata": {},
   "source": [
    "If you don't think your fit is great, you can fit more locally by shrinking the optional \"smoothing_factor\" argument, or more global by increasing the \"smoothing_factor\" argument. Here's an example of an over-fit spline:"
   ]
  },
  {
   "cell_type": "code",
   "execution_count": null,
   "metadata": {
    "collapsed": false
   },
   "outputs": [],
   "source": [
    "fit_df = mt_biotek.spline_fit(df, smoothing_factor = .001)\n",
    "example_fit_df = fit_df[(fit_df.Gain == 100) & (fit_df.Channel == \"RFP\") \\\n",
    "                        & (fit_df[\"GFP Plasmid (nM)\"] == 2.01) & (fit_df[\"RFP Plasmid (nM)\"] == 3.97)\\\n",
    "                        & (fit_df.Replicate == 1)]\n",
    "plt.plot(example_fit_df[\"Time (hr)\"], example_fit_df[\"uM\"], color = \"blue\", label = \"Raw Data\")\n",
    "plt.plot(example_fit_df[\"Time (hr)\"], example_fit_df[\"uM spline fit\"], color = \"red\", label=\"Spline Fit\")\n",
    "plt.legend(loc = 2)"
   ]
  },
  {
   "cell_type": "markdown",
   "metadata": {},
   "source": [
    "Let's look at some splined fits for the GFP data from above:"
   ]
  },
  {
   "cell_type": "code",
   "execution_count": null,
   "metadata": {
    "collapsed": false
   },
   "outputs": [],
   "source": [
    "gfp_df = df[(df.Gain == 100) & (df.Channel == \"GFP\")]\n",
    "splined_gfp_df = mt_biotek.spline_fit(gfp_df)\n",
    "grid = sns.FacetGrid(splined_gfp_df, col = \"GFP Plasmid (nM)\", \n",
    "                     row = \"RFP Plasmid (nM)\", \n",
    "                     hue = \"Replicate\", margin_titles = True)\n",
    "grid.map(plt.plot, \"Time (hr)\", \"uM spline fit\")\n",
    "grid.map(plt.plot, \"Time (hr)\", \"uM\")\n",
    "grid.fig.tight_layout(w_pad=1)\n",
    "plt.show()"
   ]
  },
  {
   "cell_type": "code",
   "execution_count": null,
   "metadata": {
    "collapsed": false
   },
   "outputs": [],
   "source": [
    "rfp_df = df[(df.Gain == 100) & (df.Channel == \"RFP\")]\n",
    "splined_rfp_df = mt_biotek.spline_fit(rfp_df)\n",
    "grid = sns.FacetGrid(splined_rfp_df, col = \"GFP Plasmid (nM)\", \n",
    "                     row = \"RFP Plasmid (nM)\", \n",
    "                     hue = \"Replicate\", margin_titles = True)\n",
    "grid.map(plt.plot, \"Time (hr)\", \"uM\")\n",
    "grid.map(plt.plot, \"Time (hr)\", \"uM spline fit\")\n",
    "grid.fig.tight_layout(w_pad=1)\n",
    "plt.show()"
   ]
  },
  {
   "cell_type": "markdown",
   "metadata": {},
   "source": [
    "They're pretty good fits, though note the downward-turning tails on the ends of most of them. "
   ]
  },
  {
   "cell_type": "markdown",
   "metadata": {},
   "source": [
    "### Derivative calculation"
   ]
  },
  {
   "cell_type": "markdown",
   "metadata": {},
   "source": [
    "You can calculate the rate of production of a molecule using the `smoothed_derivatives` function. This function first fits a spline, using the `spline_fit` function described above. It then numerically calculates the derivative of that spline, in units of uM/sec (or U/sec, whatever the actual unit in the \"uM\" column is).\n",
    "\n",
    "Here is the GFP data from above plotted again as a time derivative:"
   ]
  },
  {
   "cell_type": "code",
   "execution_count": null,
   "metadata": {
    "collapsed": false
   },
   "outputs": [],
   "source": [
    "gfp_df = df[(df.Gain == 100) & (df.Channel == \"GFP\")]\n",
    "deriv_df = mt_biotek.smoothed_derivatives(gfp_df)\n",
    "grid = sns.FacetGrid(deriv_df, col = \"GFP Plasmid (nM)\", row = \"RFP Plasmid (nM)\", \n",
    "                     hue = \"Replicate\", margin_titles = True)\n",
    "grid.map(plt.plot, \"Time (hr)\", \"uM/sec\")\n",
    "grid.fig.tight_layout(w_pad=1)\n",
    "plt.show()"
   ]
  },
  {
   "cell_type": "markdown",
   "metadata": {},
   "source": [
    "### Manual Unit Conversion"
   ]
  },
  {
   "cell_type": "markdown",
   "metadata": {},
   "source": [
    "If you want to manually convert an AFU readout to absolute concentration, you can do so with the `raw_to_uM` function of murraylab_tools.biotek. To convert, you will need the name of the fluorescent protein (one of \"GFP\", \"Citrine\", \"RFP\", \"CFP\", \"Venus\", or \"Cherry\"), the biotek number (one of \"b1\", \"b2\", or \"b3\"), the gain (61 or 100), and the reaction volume (any number, in µL)."
   ]
  },
  {
   "cell_type": "code",
   "execution_count": null,
   "metadata": {
    "collapsed": false
   },
   "outputs": [],
   "source": [
    "AFU = 1000\n",
    "channel = \"GFP\"\n",
    "biotek = \"b1\"\n",
    "gain = 61\n",
    "volume = 5\n",
    "mt_biotek.raw_to_uM(AFU, channel, biotek, gain, volume)"
   ]
  }
 ],
 "metadata": {
  "kernelspec": {
   "display_name": "Python 3",
   "language": "python",
   "name": "python3"
  },
  "language_info": {
   "codemirror_mode": {
    "name": "ipython",
    "version": 3
   },
   "file_extension": ".py",
   "mimetype": "text/x-python",
   "name": "python",
   "nbconvert_exporter": "python",
   "pygments_lexer": "ipython3",
   "version": "3.6.0"
  }
 },
 "nbformat": 4,
 "nbformat_minor": 1
}
