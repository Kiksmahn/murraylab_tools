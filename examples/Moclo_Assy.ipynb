{
 "cells": [
  {
   "cell_type": "code",
   "execution_count": 1,
   "metadata": {},
   "outputs": [],
   "source": [
    "#Run this first!\n",
    "import os\n",
    "import murraylab_tools.makeMocloAssy as mamo\n",
    "mypath = os.path.join(\"mocloAssy\")"
   ]
  },
  {
   "cell_type": "code",
   "execution_count": null,
   "metadata": {
    "scrolled": true
   },
   "outputs": [],
   "source": [
    "#This cell is for creating your assembly!\n",
    "#here you can put together the parts located in your source plate.\n",
    "#interface elements:\n",
    "#Assembly...[]: the name of all the assemblies you're doing!\n",
    "#parts list[]: the name of the parts list to use! This picks from which lists\n",
    "#             exist in the \"partslist\" folder on the server.\n",
    "#[Start]: this begins the assembly, locking in the parts list file we're using\n",
    "#[]list all parts: if checked, all parts will be shown in all columns, as long\n",
    "#                 as the assembly is valid!\n",
    "#Dest Well[]: this indicates the first well in the destination plate to use.\n",
    "#            subsequent assemblies are filled in left to right, top to bottom.\n",
    "#[Save!]: this saves the assembly, and creates a csv file on the server which\n",
    "#         can be used for making echo picklists\n",
    "#\n",
    "#\n",
    "#[vector1]...[vector2]: these drop downs will list compatible parts from the\n",
    "#                       parts list\n",
    "#[enzyme]: this tells the picklist generation script how to assemble the parts\n",
    "#         to make assembled sequences. Also it tells the UI whether UNS parts\n",
    "#         should assemble together.\n",
    "#[name]: a unique name! This is mostly for you, but make sure each assembly has\n",
    "#       one!\n",
    "#[+]: this copies the row and adds it to the bottom.\n",
    "#[-]: one press clears all the parts, another press deletes the row entirely\n",
    "mamo.makeAssemblyFile(mypath)"
   ]
  },
  {
   "cell_type": "code",
   "execution_count": 2,
   "metadata": {
    "scrolled": true
   },
   "outputs": [
    {
     "data": {
      "application/vnd.jupyter.widget-view+json": {
       "model_id": "31172afa2e414b43bcbbdcb24384b50d",
       "version_major": 2,
       "version_minor": 0
      },
      "text/plain": [
       "HBox(children=(Dropdown(description='Assembly:', options={'180503_newscaff_grnassy': 'mocloAssy\\\\assemblies\\\\1…"
      ]
     },
     "metadata": {},
     "output_type": "display_data"
    },
    {
     "data": {
      "application/vnd.jupyter.widget-view+json": {
       "model_id": "fda735c64c1c40baab07479b9f2bf6aa",
       "version_major": 2,
       "version_minor": 0
      },
      "text/plain": [
       "FloatProgress(value=0.0, max=1.0)"
      ]
     },
     "metadata": {},
     "output_type": "display_data"
    },
    {
     "data": {
      "text/html": [
       "<div>\n",
       "<style scoped>\n",
       "    .dataframe tbody tr th:only-of-type {\n",
       "        vertical-align: middle;\n",
       "    }\n",
       "\n",
       "    .dataframe tbody tr th {\n",
       "        vertical-align: top;\n",
       "    }\n",
       "\n",
       "    .dataframe thead th {\n",
       "        text-align: right;\n",
       "    }\n",
       "</style>\n",
       "<table border=\"1\" class=\"dataframe\">\n",
       "  <thead>\n",
       "    <tr style=\"text-align: right;\">\n",
       "      <th></th>\n",
       "      <th>well</th>\n",
       "      <th>part</th>\n",
       "      <th>circular</th>\n",
       "      <th>length</th>\n",
       "    </tr>\n",
       "  </thead>\n",
       "  <tbody>\n",
       "    <tr>\n",
       "      <th>0</th>\n",
       "      <td>C1</td>\n",
       "      <td>rec25</td>\n",
       "      <td>True</td>\n",
       "      <td>11835</td>\n",
       "    </tr>\n",
       "    <tr>\n",
       "      <th>1</th>\n",
       "      <td>C2</td>\n",
       "      <td>rec26</td>\n",
       "      <td>True</td>\n",
       "      <td>11835</td>\n",
       "    </tr>\n",
       "    <tr>\n",
       "      <th>2</th>\n",
       "      <td>C3</td>\n",
       "      <td>rec27</td>\n",
       "      <td>True</td>\n",
       "      <td>11764</td>\n",
       "    </tr>\n",
       "    <tr>\n",
       "      <th>3</th>\n",
       "      <td>C4</td>\n",
       "      <td>rec28</td>\n",
       "      <td>True</td>\n",
       "      <td>11764</td>\n",
       "    </tr>\n",
       "    <tr>\n",
       "      <th>4</th>\n",
       "      <td>C5</td>\n",
       "      <td>rec29</td>\n",
       "      <td>True</td>\n",
       "      <td>11767</td>\n",
       "    </tr>\n",
       "    <tr>\n",
       "      <th>5</th>\n",
       "      <td>C6</td>\n",
       "      <td>rec30</td>\n",
       "      <td>True</td>\n",
       "      <td>11767</td>\n",
       "    </tr>\n",
       "    <tr>\n",
       "      <th>6</th>\n",
       "      <td>C7</td>\n",
       "      <td>rec31</td>\n",
       "      <td>True</td>\n",
       "      <td>11764</td>\n",
       "    </tr>\n",
       "    <tr>\n",
       "      <th>7</th>\n",
       "      <td>C8</td>\n",
       "      <td>rec32</td>\n",
       "      <td>True</td>\n",
       "      <td>11764</td>\n",
       "    </tr>\n",
       "  </tbody>\n",
       "</table>\n",
       "</div>"
      ],
      "text/plain": [
       "  well   part  circular  length\n",
       "0   C1  rec25      True   11835\n",
       "1   C2  rec26      True   11835\n",
       "2   C3  rec27      True   11764\n",
       "3   C4  rec28      True   11764\n",
       "4   C5  rec29      True   11767\n",
       "5   C6  rec30      True   11767\n",
       "6   C7  rec31      True   11764\n",
       "7   C8  rec32      True   11764"
      ]
     },
     "metadata": {},
     "output_type": "display_data"
    },
    {
     "data": {
      "text/html": [
       "<a href='mocloAssy\\DNA\\180723_context\\180723_context.csv' target='_blank'>mocloAssy\\DNA\\180723_context\\180723_context.csv</a><br>"
      ],
      "text/plain": [
       "C:\\Users\\Andrey\\Documents\\GitHub\\murraylab_tools\\examples\\mocloAssy\\DNA\\180723_context\\180723_context.csv"
      ]
     },
     "metadata": {},
     "output_type": "display_data"
    },
    {
     "data": {
      "text/html": [
       "<a href='mocloAssy\\output\\outputLDV.csv' target='_blank'>mocloAssy\\output\\outputLDV.csv</a><br>"
      ],
      "text/plain": [
       "C:\\Users\\Andrey\\Documents\\GitHub\\murraylab_tools\\examples\\mocloAssy\\output\\outputLDV.csv"
      ]
     },
     "metadata": {},
     "output_type": "display_data"
    }
   ],
   "source": [
    "#run this cell to make an echo picklist!\n",
    "#you'll get a chance to pick which set of assemblies you want to do, and of\n",
    "#course the parts list to use.\n",
    "mamo.makeInteractive(mypath,printstuff=False)"
   ]
  },
  {
   "cell_type": "code",
   "execution_count": null,
   "metadata": {},
   "outputs": [],
   "source": [
    "#random testing stuff here. DO NOT LOOK\n",
    "#import os\n",
    "#x = os.path.join(\"ooga\",\"booga.exe\")\n",
    "#os.path.splitext(x)[0]\n",
    "#os.path.splitext(os.path.basename(x))[0]\n",
    "#help(os.path)\n",
    "from Bio.Restriction import BsaI\n",
    "from pydna.dseq import Dseq\n",
    "x= Dseq(\n",
    "        \"aaagggaataagggcgacacggaaatgttgaatactcatactcttcctttttcaatattattgaagcatt\"+\n",
    "        \"tatcagggttattgtctcatgagcggatacatatttgaatgtatttagaaaaataaacaaataggggttc\"+\\\n",
    "        \"cgcgcacatttccccgaaaagtgccacctgacgtctaagaaaccattattatcatgacattaacctataa\"+\\\n",
    "        \"aaataggcgtatcacgaggcagaatttcagataaaaaaaatccttagctttcgctaaggatgatttctgg\"+\\\n",
    "        \"aattcgcggccgcttctagagactagtgggtctcaGGAGacattgattatttgcacggcgtcacactttg\"+\\\n",
    "        \"ctatgccatagcatttttatccataagattagcggatcctacctgacgctttttatcgcaactctctact\"+\\\n",
    "        \"gtttctccataccgtttttttgggctagcTACTagagacctactagtagcggccgctgcaggcttcctcg\"+\\\n",
    "        \"ctcactgactcgctgcgctcggtcgttcggctgcggcgagcggtatcagctcactcaaaggcggtaatac\"+\\\n",
    "        \"ggttatccacagaatcaggggataacgcaggaaagaacatgtgagcaaaaggccagcaaaaggccaggaa\"+\\\n",
    "        \"ccgtaaaaaggccgcgttgctggcgtttttccacaggctccgcccccctgacgagcatcacaaaaatcga\"+\\\n",
    "        \"cgctcaagtcagaggtggcgaaacccgacaggactataaagataccaggcgtttccccctggaagctccc\"+\\\n",
    "        \"tcgtgcgctctcctgttccgaccctgccgcttaccggatacctgtccgcctttctcccttcgggaagcgt\"+\\\n",
    "        \"ggcgctttctcatagctcacgctgtaggtatctcagttcggtgtaggtcgttcgctccaagctgggctgt\"+\\\n",
    "        \"gtgcacgaaccccccgttcagcccgaccgctgcgccttatccggtaactatcgtcttgagtccaacccgg\"+\\\n",
    "        \"taagacacgacttatcgccactggcagcagccactggtaacaggattagcagagcgaggtatgtaggcgg\"+\\\n",
    "        \"tgctacagagttcttgaagtggtggcctaactacggctacactagaagaacagtatttggtatctgcgct\"+\\\n",
    "        \"ctgctgaagccagttaccttcggaaaaagagttggtagctcttgatccggcaaacaaaccaccgctggta\"+\\\n",
    "        \"gcggtggtttttttgtttgcaagcagcagattacgcgcagaaaaaaaggatctcaagaagatcctttgat\"+\\\n",
    "        \"cttttctacggggtctgacgctcagtggaacgaaaactcacgttaagggattttggtcatgagattatca\"+\\\n",
    "        \"aaaaggatcttcacctagatccttttaaattaaaaatgaagttttaaatcaatctaaagtatatatgagt\"+\\\n",
    "        \"aaacttggtctgacagttaccaatgcttaatcagtgaggcacctatctcagcgatctgtctatttcgttc\"+\\\n",
    "        \"atccatagttgcctgactccccgtcgtgtagataactacgatacgggagggcttaccatctggccccagt\"+\\\n",
    "        \"gctgcaatgataccgcgcgacccacgctcaccggctccagatttatcagcaataaaccagccagccggaa\"+\\\n",
    "        \"gggccgagcgcagaagtggtcctgcaactttatccgcctccatccagtctattaattgttgccgggaagc\"+\\\n",
    "        \"tagagtaagtagttcgccagttaatagtttgcgcaacgttgttgccattgctacaggcatcgtggtgtca\"+\\\n",
    "        \"cgctcgtcgtttggtatggcttcattcagctccggttcccaacgatcaaggcgagttacatgatccccca\"+\\\n",
    "        \"tgttgtgcaaaaaagcggttagctccttcggtcctccgatcgttgtcagaagtaagttggccgcagtgtt\"+\\\n",
    "        \"atcactcatggttatggcagcactgcataattctcttactgtcatgccatccgtaagatgcttttctgtg\"+\\\n",
    "        \"actggtgagtactcaaccaagtcattctgagaatagtgtatgcggcgaccgagttgctcttgcccggcgt\"+\\\n",
    "        \"caatacgggataataccgcgccacatagcagaactttaaaagtgctcatcattggaaaacgttcttcggg\"+\\\n",
    "        \"gcgaaaactctcaaggatcttaccgctgttgagatccagttcgatgtaacccactcgtgcacccaactga\"+\\\n",
    "        \"tcttcagcatcttttactttcaccagcgtttctgggtgagcaaaaacaggaaggcaaaatgccgcaaa\").looped()\n",
    "#y=Dseq(\"ATCGATCGTAGCTAGCTAGTCAGTCGATCGATCGATCGCGATC\")\n",
    "y=Dseq(\"AAGGTATGATCGTAGCTAGGGTCTCAAATGCGATCGATGTCGATCGTAGCTAGCTATCGgagacc\").looped()\n",
    "z=Dseq(\"TCAAATGCGATCGATGTCGATCGTAGCTAGCTATCGgagaccAAGGTATGATCGTAGCTAGGGTC\").looped()\n",
    "str(y) in str(z)"
   ]
  },
  {
   "cell_type": "code",
   "execution_count": null,
   "metadata": {},
   "outputs": [],
   "source": []
  }
 ],
 "metadata": {
  "kernelspec": {
   "display_name": "Python 3",
   "language": "python",
   "name": "python3"
  },
  "language_info": {
   "codemirror_mode": {
    "name": "ipython",
    "version": 3
   },
   "file_extension": ".py",
   "mimetype": "text/x-python",
   "name": "python",
   "nbconvert_exporter": "python",
   "pygments_lexer": "ipython3",
   "version": "3.6.3"
  }
 },
 "nbformat": 4,
 "nbformat_minor": 2
}
