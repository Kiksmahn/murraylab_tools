{
 "cells": [
  {
   "cell_type": "markdown",
   "metadata": {},
   "source": [
    "# Welcome to the Utilities Package\n",
    "\n",
    "This package contains some boilerplate, fairly general-purpose utility code that you might find useful. The package currently can do one thing:\n",
    "\n",
    "* Easily send email or text messages on completion of a code block."
   ]
  },
  {
   "cell_type": "markdown",
   "metadata": {},
   "source": [
    "### Sending notifications\n",
    "\n",
    "WARNING: To use this feature, your code will have to provide login information for an email provider. Be careful with this information -- hard-coding a username and password into a notebook that you might share is a good way to leak private information. You may wish to have your program read username and password information from another source (such as a file or the command line). Even better, you can create a separate email account for automated notifications, so that your program never has access to your \"real\" credentials.\n",
    "\n",
    "(Please don't use the lab email account. If you accidentally release that information, it will be a pain for all of us to deal with.)\n",
    "\n",
    "The Utilities package includes a wrapper for sending automated email alerts when a piece of code is done running. To do this, it will need to log into an email account, for which you must provide a username and password. \n",
    "\n",
    "Setting up an automatic message looks like this:"
   ]
  },
  {
   "cell_type": "code",
   "execution_count": 1,
   "metadata": {
    "collapsed": false
   },
   "outputs": [
    {
     "name": "stdout",
     "output_type": "stream",
     "text": [
      "_username: servile.automaton\n",
      "_password: DaisyDaisygivemeyouranswerdo\n",
      "self.server: smtp.gmail.com\n",
      "self.port: 587\n",
      "I'm doing a thing.\n",
      "I'm doing a second thing.\n",
      "I'm done.\n",
      "self.server: smtp.gmail.com\n",
      "self.port: 587\n"
     ]
    }
   ],
   "source": [
    "import murraylab_tools.utilities as mt_utils\n",
    "import time\n",
    "\n",
    "mt_utils.set_credentials(\"servile.automaton\", \"DaisyDaisygivemeyouranswerdo\")\n",
    "mt_utils.set_destination(\"sclamons@gmail.com\")\n",
    "\n",
    "with mt_utils.notify_when_done(\"A block\", server = \"smtp.gmail.com\", port = 587):\n",
    "    print(\"I'm doing a thing.\")\n",
    "    print(\"I'm doing a second thing.\")\n",
    "    time.sleep(3)\n",
    "    print(\"I'm done.\")"
   ]
  },
  {
   "cell_type": "markdown",
   "metadata": {},
   "source": [
    "The login above will fail, since I'm not providing real credentials here, but you can see how the program behaves when a login fails -- it will notify you that it didn't connect, and will keep running. If you want to see more information about how the connection went wrong, you can set that with the debug_connection flag:"
   ]
  },
  {
   "cell_type": "code",
   "execution_count": 2,
   "metadata": {
    "collapsed": false
   },
   "outputs": [
    {
     "name": "stdout",
     "output_type": "stream",
     "text": [
      "_username: servile.automaton\n",
      "_password: DaisyDaisygivemeyouranswerdo\n",
      "self.server: smtp.gmail.com\n",
      "self.port: 587\n",
      "I'm doing a thing.\n",
      "I'm doing a second thing.\n",
      "I'm done.\n",
      "self.server: smtp.gmail.com\n",
      "self.port: 587\n"
     ]
    }
   ],
   "source": [
    "with mt_utils.notify_when_done(\"A block\", debug_connection = True,\n",
    "                               server = \"smtp.gmail.com\", port = 587):\n",
    "    print(\"I'm doing a thing.\")\n",
    "    print(\"I'm doing a second thing.\")\n",
    "    time.sleep(3)\n",
    "    print(\"I'm done.\")"
   ]
  },
  {
   "cell_type": "code",
   "execution_count": null,
   "metadata": {
    "collapsed": true
   },
   "outputs": [],
   "source": []
  }
 ],
 "metadata": {
  "kernelspec": {
   "display_name": "Python 3",
   "language": "python",
   "name": "python3"
  },
  "language_info": {
   "codemirror_mode": {
    "name": "ipython",
    "version": 3
   },
   "file_extension": ".py",
   "mimetype": "text/x-python",
   "name": "python",
   "nbconvert_exporter": "python",
   "pygments_lexer": "ipython3",
   "version": "3.6.8"
  }
 },
 "nbformat": 4,
 "nbformat_minor": 2
}
