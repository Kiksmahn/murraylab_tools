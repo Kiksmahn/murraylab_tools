{
 "cells": [
  {
   "cell_type": "markdown",
   "metadata": {},
   "source": [
    "# Welcome to the Utilities Package\n",
    "\n",
    "This package contains some boilerplate, fairly general-purpose utility code that you might find useful. The package currently can do one thing:\n",
    "\n",
    "* Easily send email or text messages on completion of a code block."
   ]
  },
  {
   "cell_type": "markdown",
   "metadata": {},
   "source": [
    "### Sending notifications\n",
    "\n",
    "WARNING: To use this feature, your code will have to provide login information for an email provider. Be careful with this information -- hard-coding a username and password into a notebook that you might share is a good way to leak private information. You may wish to have your program read username and password information from another source (such as a file or the command line). Even better, you can create a separate email account for automated notifications, so that your program never has access to your \"real\" credentials.\n",
    "\n",
    "(Please don't use the lab email account. If you accidentally release that information, it will be a pain for all of us to deal with.)\n",
    "\n",
    "The Utilities package includes a wrapper for sending automated email alerts when a piece of code is done running. To do this, it will need to log into an email account, for which you must provide a username and password. \n",
    "\n",
    "Setting up an automatic message looks like this:"
   ]
  },
  {
   "cell_type": "code",
   "execution_count": 1,
   "metadata": {
    "collapsed": false
   },
   "outputs": [
    {
     "name": "stdout",
     "output_type": "stream",
     "text": [
      "_username: put_your_username_here\n",
      "_password: put_your_password_here\n",
      "self.server: smtp.google.com\n",
      "self.port: 587\n",
      "I'm doing a thing.\n",
      "I'm doing a second thing.\n"
     ]
    },
    {
     "name": "stderr",
     "output_type": "stream",
     "text": [
      "/Users/sclamons/anaconda/lib/python3.6/site-packages/murraylab_tools/utilities/utilities.py:54: RuntimeWarning: Connection to email server failed. Run will continue without notifications.\n",
      "  RuntimeWarning)\n"
     ]
    },
    {
     "name": "stdout",
     "output_type": "stream",
     "text": [
      "I'm done.\n"
     ]
    }
   ],
   "source": [
    "import murraylab_tools.utilities as mt_utils\n",
    "import time\n",
    "\n",
    "mt_utils.set_credentials(\"put_your_username_here\", \"put_your_password_here\")\n",
    "mt_utils.set_destination(\"sclamons@gmail.com\")\n",
    "\n",
    "with mt_utils.notify_when_done(\"A block\"):\n",
    "    print(\"I'm doing a thing.\")\n",
    "    print(\"I'm doing a second thing.\")\n",
    "    time.sleep(3)\n",
    "    print(\"I'm done.\")"
   ]
  },
  {
   "cell_type": "markdown",
   "metadata": {},
   "source": [
    "The login above will fail, since I'm not providing real credentials here, but you can see how the program behaves when a login fails -- it will notify you that it didn't connect, and will keep running. If you want to see more information about how the connection went wrong, you can set that with the debug_connection flag:"
   ]
  },
  {
   "cell_type": "code",
   "execution_count": 2,
   "metadata": {
    "collapsed": false
   },
   "outputs": [
    {
     "name": "stdout",
     "output_type": "stream",
     "text": [
      "_username: put_your_username_here\n",
      "_password: put_your_password_here\n",
      "self.server: smtp.google.com\n",
      "self.port: 587\n",
      "Connection error is:\n",
      "Traceback (most recent call last):\n",
      "  File \"/Users/sclamons/anaconda/lib/python3.6/site-packages/murraylab_tools/utilities/utilities.py\", line 50, in __enter__\n",
      "    server = self.connect_to_server()\n",
      "  File \"/Users/sclamons/anaconda/lib/python3.6/site-packages/murraylab_tools/utilities/utilities.py\", line 88, in connect_to_server\n",
      "    server = smtplib.SMTP(self.server, self.port)\n",
      "  File \"/Users/sclamons/anaconda/lib/python3.6/smtplib.py\", line 251, in __init__\n",
      "    (code, msg) = self.connect(host, port)\n",
      "  File \"/Users/sclamons/anaconda/lib/python3.6/smtplib.py\", line 336, in connect\n",
      "    self.sock = self._get_socket(host, port, self.timeout)\n",
      "  File \"/Users/sclamons/anaconda/lib/python3.6/smtplib.py\", line 307, in _get_socket\n",
      "    self.source_address)\n",
      "  File \"/Users/sclamons/anaconda/lib/python3.6/socket.py\", line 704, in create_connection\n",
      "    for res in getaddrinfo(host, port, 0, SOCK_STREAM):\n",
      "  File \"/Users/sclamons/anaconda/lib/python3.6/socket.py\", line 745, in getaddrinfo\n",
      "    for res in _socket.getaddrinfo(host, port, family, type, proto, flags):\n",
      "socket.gaierror: [Errno 8] nodename nor servname provided, or not known\n",
      "\n",
      "I'm doing a thing.\n",
      "I'm doing a second thing.\n"
     ]
    },
    {
     "name": "stderr",
     "output_type": "stream",
     "text": [
      "/Users/sclamons/anaconda/lib/python3.6/site-packages/murraylab_tools/utilities/utilities.py:54: RuntimeWarning: Connection to email server failed. Run will continue without notifications.\n",
      "  RuntimeWarning)\n"
     ]
    },
    {
     "name": "stdout",
     "output_type": "stream",
     "text": [
      "I'm done.\n"
     ]
    }
   ],
   "source": [
    "with mt_utils.notify_when_done(\"A block\", debug_connection = True):\n",
    "    print(\"I'm doing a thing.\")\n",
    "    print(\"I'm doing a second thing.\")\n",
    "    time.sleep(3)\n",
    "    print(\"I'm done.\")"
   ]
  },
  {
   "cell_type": "code",
   "execution_count": null,
   "metadata": {
    "collapsed": true
   },
   "outputs": [],
   "source": []
  }
 ],
 "metadata": {
  "kernelspec": {
   "display_name": "Python 3",
   "language": "python",
   "name": "python3"
  },
  "language_info": {
   "codemirror_mode": {
    "name": "ipython",
    "version": 3
   },
   "file_extension": ".py",
   "mimetype": "text/x-python",
   "name": "python",
   "nbconvert_exporter": "python",
   "pygments_lexer": "ipython3",
   "version": "3.6.8"
  }
 },
 "nbformat": 4,
 "nbformat_minor": 2
}
