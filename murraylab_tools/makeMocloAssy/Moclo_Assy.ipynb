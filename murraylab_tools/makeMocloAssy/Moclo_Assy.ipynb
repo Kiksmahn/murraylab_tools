{
 "cells": [
  {
   "cell_type": "code",
   "execution_count": 1,
   "metadata": {},
   "outputs": [],
   "source": [
    "#Run this first!\n",
    "import os\n",
    "import makeMocloAssy as mamo"
   ]
  },
  {
   "cell_type": "code",
   "execution_count": 8,
   "metadata": {
    "scrolled": true
   },
   "outputs": [
    {
     "data": {
      "application/vnd.jupyter.widget-view+json": {
       "model_id": "081cff90475e465791c5a477c8ce003f",
       "version_major": 2,
       "version_minor": 0
      },
      "text/plain": [
       "HBox(children=(VBox(children=(Text(value='untitled', description='Assembly File Name:', layout=Layout(height='…"
      ]
     },
     "metadata": {},
     "output_type": "display_data"
    },
    {
     "data": {
      "application/vnd.jupyter.widget-view+json": {
       "model_id": "436a17e6b6ec45f89b4bedb8c463fa5e",
       "version_major": 2,
       "version_minor": 0
      },
      "text/plain": [
       "HBox(children=(VBox(children=(Label(value='vector1'), Dropdown(index=64, layout=Layout(height='30px', width='7…"
      ]
     },
     "metadata": {},
     "output_type": "display_data"
    },
    {
     "data": {
      "text/html": [
       "<a href='..\\..\\examples\\mocloAssy\\assemblies\\untitgib.csv' target='_blank'>..\\..\\examples\\mocloAssy\\assemblies\\untitgib.csv</a><br>"
      ],
      "text/plain": [
       "C:\\Users\\Andrey\\Documents\\GitHub\\murraylab_tools\\examples\\mocloAssy\\assemblies\\untitgib.csv"
      ]
     },
     "metadata": {},
     "output_type": "display_data"
    },
    {
     "data": {
      "text/html": [
       "<div>\n",
       "<style scoped>\n",
       "    .dataframe tbody tr th:only-of-type {\n",
       "        vertical-align: middle;\n",
       "    }\n",
       "\n",
       "    .dataframe tbody tr th {\n",
       "        vertical-align: top;\n",
       "    }\n",
       "\n",
       "    .dataframe thead th {\n",
       "        text-align: right;\n",
       "    }\n",
       "</style>\n",
       "<table border=\"1\" class=\"dataframe\">\n",
       "  <thead>\n",
       "    <tr style=\"text-align: right;\">\n",
       "      <th></th>\n",
       "      <th>vector1</th>\n",
       "      <th>promoter</th>\n",
       "      <th>UTR</th>\n",
       "      <th>CDS</th>\n",
       "      <th>Terminator</th>\n",
       "      <th>vector2</th>\n",
       "      <th>enzyme</th>\n",
       "      <th>name</th>\n",
       "      <th>targwell</th>\n",
       "    </tr>\n",
       "  </thead>\n",
       "  <tbody>\n",
       "    <tr>\n",
       "      <th>0</th>\n",
       "      <td>bbHSA-X-1</td>\n",
       "      <td>Lys1_1-4</td>\n",
       "      <td>Cg-14-X</td>\n",
       "      <td>NaN</td>\n",
       "      <td>NaN</td>\n",
       "      <td>NaN</td>\n",
       "      <td>gibson</td>\n",
       "      <td>t1</td>\n",
       "      <td>A1</td>\n",
       "    </tr>\n",
       "  </tbody>\n",
       "</table>\n",
       "</div>"
      ],
      "text/plain": [
       "     vector1  promoter      UTR  CDS  Terminator  vector2  enzyme name  \\\n",
       "0  bbHSA-X-1  Lys1_1-4  Cg-14-X  NaN         NaN      NaN  gibson   t1   \n",
       "\n",
       "  targwell  \n",
       "0       A1  "
      ]
     },
     "metadata": {},
     "output_type": "display_data"
    }
   ],
   "source": [
    "#This cell is for creating your assembly!\n",
    "#here you can put together the parts located in your source plate.\n",
    "#interface elements:\n",
    "#Assembly...[]: the name of all the assemblies you're doing!\n",
    "#parts list[]: the name of the parts list to use! This picks from which lists\n",
    "#             exist in the \"partslist\" folder on the server.\n",
    "#[Start]: this begins the assembly, locking in the parts list file we're using\n",
    "#[]list all parts: if checked, all parts will be shown in all columns, as long\n",
    "#                 as the assembly is valid!\n",
    "#Dest Well[]: this indicates the first well in the destination plate to use.\n",
    "#            subsequent assemblies are filled in left to right, top to bottom.\n",
    "#[Save!]: this saves the assembly, and creates a csv file on the server which\n",
    "#         can be used for making echo picklists\n",
    "#\n",
    "#\n",
    "#[vector1]...[vector2]: these drop downs will list compatible parts from the\n",
    "#                       parts list\n",
    "#[enzyme]: this tells the picklist generation script how to assemble the parts\n",
    "#         to make assembled sequences. Also it tells the UI whether UNS parts\n",
    "#         should assemble together.\n",
    "#[name]: a unique name! This is mostly for you, but make sure each assembly has\n",
    "#       one!\n",
    "#[+]: this copies the row and adds it to the bottom.\n",
    "#[-]: one press clears all the parts, another press deletes the row entirely\n",
    "mamo.makeAssemblyFile(os.path.join(\"..\",\"..\",\"examples\",\"mocloAssy\"))"
   ]
  },
  {
   "cell_type": "code",
   "execution_count": 2,
   "metadata": {
    "scrolled": true
   },
   "outputs": [
    {
     "data": {
      "application/vnd.jupyter.widget-view+json": {
       "model_id": "1fbe02a7fa61401e8d71f822a5a567a6",
       "version_major": 2,
       "version_minor": 0
      },
      "text/plain": [
       "HBox(children=(Dropdown(description='Assembly:', options={'180503_newscaff_grnassy': '..\\\\..\\\\examples\\\\mocloA…"
      ]
     },
     "metadata": {},
     "output_type": "display_data"
    },
    {
     "data": {
      "application/vnd.jupyter.widget-view+json": {
       "model_id": "5a67606e66534f158a95c4a82dc42492",
       "version_major": 2,
       "version_minor": 0
      },
      "text/plain": [
       "FloatProgress(value=0.0, max=1.0)"
      ]
     },
     "metadata": {},
     "output_type": "display_data"
    },
    {
     "name": "stdout",
     "output_type": "stream",
     "text": [
      "assembling with gibson\n",
      "===> transfer from A4, plate ASSGIB01 to A1, 250 nl\n",
      "===> transfer from B5, plate ASSGIB01 to A1, 200 nl\n",
      "===> transfer from D5, plate ASSGIB01 to A1, 100 nl\n",
      "skip one!\n",
      "skip one!\n",
      "skip one!\n",
      "found 1 possible products\n",
      "saving in folder ..\\..\\examples\\mocloAssy\\DNA\\untitgib\n",
      "Parts in construct t1\n",
      "Detected 1 possible assembly\n",
      "\n"
     ]
    },
    {
     "data": {
      "text/html": [
       "<div>\n",
       "<style scoped>\n",
       "    .dataframe tbody tr th:only-of-type {\n",
       "        vertical-align: middle;\n",
       "    }\n",
       "\n",
       "    .dataframe tbody tr th {\n",
       "        vertical-align: top;\n",
       "    }\n",
       "\n",
       "    .dataframe thead th {\n",
       "        text-align: right;\n",
       "    }\n",
       "</style>\n",
       "<table border=\"1\" class=\"dataframe\">\n",
       "  <thead>\n",
       "    <tr style=\"text-align: right;\">\n",
       "      <th></th>\n",
       "      <th>well</th>\n",
       "      <th>part</th>\n",
       "      <th>circular</th>\n",
       "      <th>length</th>\n",
       "    </tr>\n",
       "  </thead>\n",
       "  <tbody>\n",
       "    <tr>\n",
       "      <th>0</th>\n",
       "      <td>A1</td>\n",
       "      <td>t1</td>\n",
       "      <td>True</td>\n",
       "      <td>4835</td>\n",
       "    </tr>\n",
       "  </tbody>\n",
       "</table>\n",
       "</div>"
      ],
      "text/plain": [
       "  well part  circular  length\n",
       "0   A1   t1      True    4835"
      ]
     },
     "metadata": {},
     "output_type": "display_data"
    },
    {
     "data": {
      "text/html": [
       "<a href='..\\..\\examples\\mocloAssy\\DNA\\untitgib\\untitgib.csv' target='_blank'>..\\..\\examples\\mocloAssy\\DNA\\untitgib\\untitgib.csv</a><br>"
      ],
      "text/plain": [
       "C:\\Users\\Andrey\\Documents\\GitHub\\murraylab_tools\\examples\\mocloAssy\\DNA\\untitgib\\untitgib.csv"
      ]
     },
     "metadata": {},
     "output_type": "display_data"
    },
    {
     "name": "stdout",
     "output_type": "stream",
     "text": [
      "wrote LDV steps in ..\\..\\examples\\mocloAssy\\output\\outputLDV.csv\n"
     ]
    },
    {
     "data": {
      "text/html": [
       "<a href='..\\..\\examples\\mocloAssy\\output\\outputLDV.csv' target='_blank'>..\\..\\examples\\mocloAssy\\output\\outputLDV.csv</a><br>"
      ],
      "text/plain": [
       "C:\\Users\\Andrey\\Documents\\GitHub\\murraylab_tools\\examples\\mocloAssy\\output\\outputLDV.csv"
      ]
     },
     "metadata": {},
     "output_type": "display_data"
    }
   ],
   "source": [
    "#run this cell to make an echo picklist!\n",
    "#you'll get a chance to pick which set of assemblies you want to do, and of\n",
    "#course the parts list to use.\n",
    "mamo.makeInteractive(os.path.join(\"..\",\"..\",\"examples\",\"mocloAssy\"),printstuff=True)"
   ]
  },
  {
   "cell_type": "code",
   "execution_count": null,
   "metadata": {},
   "outputs": [],
   "source": [
    "#import os\n",
    "#x = os.path.join(\"ooga\",\"booga.exe\")\n",
    "#os.path.splitext(x)[0]\n",
    "#os.path.splitext(os.path.basename(x))[0]\n",
    "#help(os.path)\n",
    "from Bio.Restriction import BsaI\n",
    "from pydna.dseq import Dseq\n",
    "x= Dseq(\n",
    "        \"aaagggaataagggcgacacggaaatgttgaatactcatactcttcctttttcaatattattgaagcatt\"+\n",
    "        \"tatcagggttattgtctcatgagcggatacatatttgaatgtatttagaaaaataaacaaataggggttc\"+\\\n",
    "        \"cgcgcacatttccccgaaaagtgccacctgacgtctaagaaaccattattatcatgacattaacctataa\"+\\\n",
    "        \"aaataggcgtatcacgaggcagaatttcagataaaaaaaatccttagctttcgctaaggatgatttctgg\"+\\\n",
    "        \"aattcgcggccgcttctagagactagtgggtctcaGGAGacattgattatttgcacggcgtcacactttg\"+\\\n",
    "        \"ctatgccatagcatttttatccataagattagcggatcctacctgacgctttttatcgcaactctctact\"+\\\n",
    "        \"gtttctccataccgtttttttgggctagcTACTagagacctactagtagcggccgctgcaggcttcctcg\"+\\\n",
    "        \"ctcactgactcgctgcgctcggtcgttcggctgcggcgagcggtatcagctcactcaaaggcggtaatac\"+\\\n",
    "        \"ggttatccacagaatcaggggataacgcaggaaagaacatgtgagcaaaaggccagcaaaaggccaggaa\"+\\\n",
    "        \"ccgtaaaaaggccgcgttgctggcgtttttccacaggctccgcccccctgacgagcatcacaaaaatcga\"+\\\n",
    "        \"cgctcaagtcagaggtggcgaaacccgacaggactataaagataccaggcgtttccccctggaagctccc\"+\\\n",
    "        \"tcgtgcgctctcctgttccgaccctgccgcttaccggatacctgtccgcctttctcccttcgggaagcgt\"+\\\n",
    "        \"ggcgctttctcatagctcacgctgtaggtatctcagttcggtgtaggtcgttcgctccaagctgggctgt\"+\\\n",
    "        \"gtgcacgaaccccccgttcagcccgaccgctgcgccttatccggtaactatcgtcttgagtccaacccgg\"+\\\n",
    "        \"taagacacgacttatcgccactggcagcagccactggtaacaggattagcagagcgaggtatgtaggcgg\"+\\\n",
    "        \"tgctacagagttcttgaagtggtggcctaactacggctacactagaagaacagtatttggtatctgcgct\"+\\\n",
    "        \"ctgctgaagccagttaccttcggaaaaagagttggtagctcttgatccggcaaacaaaccaccgctggta\"+\\\n",
    "        \"gcggtggtttttttgtttgcaagcagcagattacgcgcagaaaaaaaggatctcaagaagatcctttgat\"+\\\n",
    "        \"cttttctacggggtctgacgctcagtggaacgaaaactcacgttaagggattttggtcatgagattatca\"+\\\n",
    "        \"aaaaggatcttcacctagatccttttaaattaaaaatgaagttttaaatcaatctaaagtatatatgagt\"+\\\n",
    "        \"aaacttggtctgacagttaccaatgcttaatcagtgaggcacctatctcagcgatctgtctatttcgttc\"+\\\n",
    "        \"atccatagttgcctgactccccgtcgtgtagataactacgatacgggagggcttaccatctggccccagt\"+\\\n",
    "        \"gctgcaatgataccgcgcgacccacgctcaccggctccagatttatcagcaataaaccagccagccggaa\"+\\\n",
    "        \"gggccgagcgcagaagtggtcctgcaactttatccgcctccatccagtctattaattgttgccgggaagc\"+\\\n",
    "        \"tagagtaagtagttcgccagttaatagtttgcgcaacgttgttgccattgctacaggcatcgtggtgtca\"+\\\n",
    "        \"cgctcgtcgtttggtatggcttcattcagctccggttcccaacgatcaaggcgagttacatgatccccca\"+\\\n",
    "        \"tgttgtgcaaaaaagcggttagctccttcggtcctccgatcgttgtcagaagtaagttggccgcagtgtt\"+\\\n",
    "        \"atcactcatggttatggcagcactgcataattctcttactgtcatgccatccgtaagatgcttttctgtg\"+\\\n",
    "        \"actggtgagtactcaaccaagtcattctgagaatagtgtatgcggcgaccgagttgctcttgcccggcgt\"+\\\n",
    "        \"caatacgggataataccgcgccacatagcagaactttaaaagtgctcatcattggaaaacgttcttcggg\"+\\\n",
    "        \"gcgaaaactctcaaggatcttaccgctgttgagatccagttcgatgtaacccactcgtgcacccaactga\"+\\\n",
    "        \"tcttcagcatcttttactttcaccagcgtttctgggtgagcaaaaacaggaaggcaaaatgccgcaaa\").looped()\n",
    "#y=Dseq(\"ATCGATCGTAGCTAGCTAGTCAGTCGATCGATCGATCGCGATC\")\n",
    "y=Dseq(\"AAGGTATGATCGTAGCTAGGGTCTCAAATGCGATCGATGTCGATCGTAGCTAGCTATCGgagacc\")\n",
    "BsaI.search(x,linear=False)\n",
    "BsaI.search(y,linear=True)\n",
    "#BsaI.search(y)\n",
    "#p=Dseq(\"atctgctgatgtacggtctcaaggtacgtagtactgacgtac\")\n",
    "#x.linear\n",
    "#a=True\n",
    "#b=True\n",
    "#a&b\n",
    "\n",
    "#y = x.cut(BsaI)[0]\n",
    "#pc=p.cut(BsaI)[1]\n",
    "#display(y)\n",
    "#display(pc)\n",
    "#y.linear\n",
    "#z=pc+y#.rc()\n",
    "#z\n",
    "#[a.five_prime_end() for a in y]\n",
    "#BsaI.search(x,linear=False)\n",
    "#str(BsaI)\n",
    "#'x'*0\n",
    "#str(x.rc())\n",
    "#z={\"A\":1,\"B\":2}\n",
    "#y={\"C\":3}\n",
    "#z.append(y)\n",
    "#x.find(\"ggtctc\".upper())\n",
    "#BsaI.site"
   ]
  },
  {
   "cell_type": "code",
   "execution_count": null,
   "metadata": {},
   "outputs": [],
   "source": []
  }
 ],
 "metadata": {
  "kernelspec": {
   "display_name": "Python 3",
   "language": "python",
   "name": "python3"
  },
  "language_info": {
   "codemirror_mode": {
    "name": "ipython",
    "version": 3
   },
   "file_extension": ".py",
   "mimetype": "text/x-python",
   "name": "python",
   "nbconvert_exporter": "python",
   "pygments_lexer": "ipython3",
   "version": "3.6.3"
  }
 },
 "nbformat": 4,
 "nbformat_minor": 2
}
