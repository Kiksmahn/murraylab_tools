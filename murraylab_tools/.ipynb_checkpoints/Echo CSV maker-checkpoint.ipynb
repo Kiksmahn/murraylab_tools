{
 "cells": [
  {
   "cell_type": "markdown",
   "metadata": {},
   "source": [
    "# TXTL Echo generator  \n",
    "This python script will generate a .csv file that can be automatically fed into the Echo to do a N x N characterization matrix for any combination of two plasmids in TXTL. Currently the script is only designed to do the same number of rows and columns but you can set different minmax concentrations and linear spacing for each plasmid. \n"
   ]
  },
  {
   "cell_type": "code",
   "execution_count": 2,
   "metadata": {
    "collapsed": false
   },
   "outputs": [
    {
     "name": "stdout",
     "output_type": "stream",
     "text": [
      "8\n",
      "10\n"
     ]
    }
   ],
   "source": [
    "from echo_functions import *\n",
    "\n",
    "dna1_final = range(0,6,1) # in nM\n",
    "dna2_final = range(0,6,1) # in nM\n",
    "\n",
    "rxn_vol = 5\n",
    "# Integrase plasmid\n",
    "dna1_conc = 300 # 1704 ng/ul stock\n",
    "dna1_len = 4524 # bp\n",
    "\n",
    "# Reporter plasmid\n",
    "dna2_conc = 300 #564 ng/ul stock\n",
    "dna2_len = 4656 # bp\n",
    "\n",
    "# bxb1_srcwells = ['dna1 source well','dna2 source well','water source well']\n",
    "bxb1_srcwells = ['C1','C2','C3']\n",
    "firstwell = ['C', '10']\n",
    "\n",
    "echo_csv_maker(rxn_vol, dna1_conc, dna1_len, dna2_conc, dna2_len, dna1_final, dna2_final, 'bxb1',bxb1_srcwells, firstwell)\n"
   ]
  },
  {
   "cell_type": "markdown",
   "metadata": {
    "collapsed": true
   },
   "source": [
    "New version: "
   ]
  },
  {
   "cell_type": "code",
   "execution_count": 1,
   "metadata": {
    "collapsed": true
   },
   "outputs": [],
   "source": [
    "from echo_functions import *\n",
    "\n",
    "dna1_final = range(0,6,1) # in nM\n",
    "dna2_final = range(0,6,1) # in nM\n",
    "\n",
    "rxn_vol = 5\n",
    "# Integrase plasmid\n",
    "dna1_conc = 300 # 1704 ng/ul stock\n",
    "dna1_len = 4524 # bp\n",
    "dna1 = EchoSourceMaterial('Integrase', dna1_conc, dna1_len, [\"C1\"])\n",
    "\n",
    "# Reporter plasmid\n",
    "dna2_conc = 300 #564 ng/ul stock\n",
    "dna2_len = 4656 # bp\n",
    "dna2 = EchoSourceMaterial(\"Reporter\", dna2_conc, dna2_len, [\"C2\"])\n",
    "\n",
    "echo_calculator = EchoCSVBuilder()\n",
    "echo_calculator.build_dilution_series(dna1, dna2, dna1_final, dna2_final, \"D2\")\n",
    "echo_calculator.write_picklist('bxb1')\n",
    "\n",
    "\n",
    "# TP901\n",
    "tp901_conc = 300 #1017 ng/ul stock\n",
    "tp901_len = 4521 # bp\n",
    "tp901 = EchoSourceMaterial(\"TP901\", tp901_conc, tp901_len, [\"D1\"])\n",
    "\n",
    "tp901r_conc = 300 #492 ng/ul stock\n",
    "tp901r_len = 4538 # bp\n",
    "tp901r = EchoSourceMaterial(\"TP901r\", tp901r_conc, tp901r_len, [\"D2\"])\n",
    "\n",
    "echo_calculator_2 = EchoCSVBuilder()\n",
    "echo_calculator_2.build_dilution_series(tp901, tp901r, dna1_final, dna2_final, \n",
    "                                        \"D2\")\n",
    "echo_calculator.write_picklist('tp901')"
   ]
  },
  {
   "cell_type": "code",
   "execution_count": null,
   "metadata": {
    "collapsed": true
   },
   "outputs": [],
   "source": []
  }
 ],
 "metadata": {
  "anaconda-cloud": {},
  "kernelspec": {
   "display_name": "Python 3",
   "language": "python",
   "name": "python3"
  },
  "language_info": {
   "codemirror_mode": {
    "name": "ipython",
    "version": 3
   },
   "file_extension": ".py",
   "mimetype": "text/x-python",
   "name": "python",
   "nbconvert_exporter": "python",
   "pygments_lexer": "ipython3",
   "version": "3.5.2"
  }
 },
 "nbformat": 4,
 "nbformat_minor": 0
}
